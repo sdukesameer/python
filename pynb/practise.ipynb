{
 "cells": [
  {
   "cell_type": "code",
   "execution_count": 2,
   "metadata": {},
   "outputs": [],
   "source": [
    "import numpy as np"
   ]
  },
  {
   "cell_type": "code",
   "execution_count": 19,
   "metadata": {},
   "outputs": [
    {
     "data": {
      "text/plain": [
       "array([[[ 1,  2,  3],\n",
       "        [ 4,  5,  6]],\n",
       "\n",
       "       [[ 7,  8,  9],\n",
       "        [10, 11, 12]]])"
      ]
     },
     "execution_count": 19,
     "metadata": {},
     "output_type": "execute_result"
    }
   ],
   "source": [
    "np.array([[(1,2,3),(4,5,6)],[(7,8,9),(10,11,12)]],dtype=int)"
   ]
  },
  {
   "cell_type": "code",
   "execution_count": 4,
   "metadata": {},
   "outputs": [
    {
     "data": {
      "text/plain": [
       "array([[[1, 1, 1, 1, 1],\n",
       "        [1, 1, 1, 1, 1],\n",
       "        [1, 1, 1, 1, 1]],\n",
       "\n",
       "       [[1, 1, 1, 1, 1],\n",
       "        [1, 1, 1, 1, 1],\n",
       "        [1, 1, 1, 1, 1]],\n",
       "\n",
       "       [[1, 1, 1, 1, 1],\n",
       "        [1, 1, 1, 1, 1],\n",
       "        [1, 1, 1, 1, 1]],\n",
       "\n",
       "       [[1, 1, 1, 1, 1],\n",
       "        [1, 1, 1, 1, 1],\n",
       "        [1, 1, 1, 1, 1]]], dtype=int16)"
      ]
     },
     "execution_count": 4,
     "metadata": {},
     "output_type": "execute_result"
    }
   ],
   "source": [
    "np.ones((4,3,5),dtype=np.int16)"
   ]
  },
  {
   "cell_type": "code",
   "execution_count": 13,
   "metadata": {},
   "outputs": [
    {
     "data": {
      "text/plain": [
       "array([0])"
      ]
     },
     "execution_count": 13,
     "metadata": {},
     "output_type": "execute_result"
    }
   ],
   "source": [
    "np.arange(0,2,9)"
   ]
  },
  {
   "cell_type": "code",
   "execution_count": 12,
   "metadata": {},
   "outputs": [
    {
     "data": {
      "text/plain": [
       "array([0.  , 0.25, 0.5 , 0.75, 1.  , 1.25, 1.5 , 1.75, 2.  ])"
      ]
     },
     "execution_count": 12,
     "metadata": {},
     "output_type": "execute_result"
    }
   ],
   "source": [
    "np.linspace(0,2,9)"
   ]
  },
  {
   "cell_type": "code",
   "execution_count": 14,
   "metadata": {},
   "outputs": [
    {
     "data": {
      "text/plain": [
       "array([[7, 7],\n",
       "       [7, 7]])"
      ]
     },
     "execution_count": 14,
     "metadata": {},
     "output_type": "execute_result"
    }
   ],
   "source": [
    "np.full((2,2),7)"
   ]
  },
  {
   "cell_type": "code",
   "execution_count": 24,
   "metadata": {},
   "outputs": [
    {
     "data": {
      "text/plain": [
       "array([[[0.49180192, 0.34581107],\n",
       "        [0.11463519, 0.9861671 ]],\n",
       "\n",
       "       [[0.38863675, 0.95910659],\n",
       "        [0.53760791, 0.02766979]]])"
      ]
     },
     "execution_count": 24,
     "metadata": {},
     "output_type": "execute_result"
    }
   ],
   "source": [
    "np.random.random((2,2,2))"
   ]
  },
  {
   "cell_type": "code",
   "execution_count": 30,
   "metadata": {},
   "outputs": [
    {
     "data": {
      "text/plain": [
       "array([[0.89105992, 0.67303557],\n",
       "       [0.29622432, 0.24546497]])"
      ]
     },
     "execution_count": 30,
     "metadata": {},
     "output_type": "execute_result"
    }
   ],
   "source": [
    "np.empty((2,2))"
   ]
  },
  {
   "cell_type": "code",
   "execution_count": 43,
   "metadata": {},
   "outputs": [],
   "source": [
    "np.save(\"my_file\",np.random.random((2,5,3)))"
   ]
  },
  {
   "cell_type": "code",
   "execution_count": 45,
   "metadata": {},
   "outputs": [
    {
     "data": {
      "text/plain": [
       "array([[[0.40659191, 0.98457817, 0.96277168],\n",
       "        [0.24873233, 0.9526983 , 0.21119794],\n",
       "        [0.11033063, 0.74151476, 0.35393293],\n",
       "        [0.88019254, 0.07860204, 0.92112684],\n",
       "        [0.75815076, 0.10224377, 0.60879499]],\n",
       "\n",
       "       [[0.96433793, 0.08442785, 0.57492269],\n",
       "        [0.81632312, 0.98797928, 0.43168378],\n",
       "        [0.24776267, 0.50651386, 0.53643187],\n",
       "        [0.92792005, 0.68554673, 0.77744025],\n",
       "        [0.59477612, 0.13840127, 0.15041519]]])"
      ]
     },
     "execution_count": 45,
     "metadata": {},
     "output_type": "execute_result"
    }
   ],
   "source": [
    "np.load('my_file.npy')"
   ]
  },
  {
   "cell_type": "code",
   "execution_count": 80,
   "metadata": {},
   "outputs": [],
   "source": [
    "x=np.random.random((5,4))"
   ]
  },
  {
   "cell_type": "code",
   "execution_count": 89,
   "metadata": {},
   "outputs": [
    {
     "name": "stdout",
     "output_type": "stream",
     "text": [
      "[1.    1.125 1.25  1.375 1.5   1.625 1.75  1.875 2.   ]\n"
     ]
    },
    {
     "data": {
      "text/plain": [
       "array([1, 1, 1, 1, 1, 1, 1, 1, 2])"
      ]
     },
     "execution_count": 89,
     "metadata": {},
     "output_type": "execute_result"
    }
   ],
   "source": [
    "x=np.linspace(1,2,9)\n",
    "print(x)\n",
    "x.astype(int)"
   ]
  },
  {
   "cell_type": "code",
   "execution_count": 94,
   "metadata": {},
   "outputs": [
    {
     "name": "stdout",
     "output_type": "stream",
     "text": [
      " ndim(*args, **kwargs)\n",
      "\n",
      "Return the number of dimensions of an array.\n",
      "\n",
      "Parameters\n",
      "----------\n",
      "a : array_like\n",
      "    Input array.  If it is not already an ndarray, a conversion is\n",
      "    attempted.\n",
      "\n",
      "Returns\n",
      "-------\n",
      "number_of_dimensions : int\n",
      "    The number of dimensions in `a`.  Scalars are zero-dimensional.\n",
      "\n",
      "See Also\n",
      "--------\n",
      "ndarray.ndim : equivalent method\n",
      "shape : dimensions of array\n",
      "ndarray.shape : dimensions of array\n",
      "\n",
      "Examples\n",
      "--------\n",
      ">>> np.ndim([[1,2,3],[4,5,6]])\n",
      "2\n",
      ">>> np.ndim(np.array([[1,2,3],[4,5,6]]))\n",
      "2\n",
      ">>> np.ndim(1)\n",
      "0\n"
     ]
    }
   ],
   "source": [
    "np.info(np.ndim)"
   ]
  },
  {
   "cell_type": "code",
   "execution_count": 104,
   "metadata": {},
   "outputs": [],
   "source": [
    "y=np.arange(10,45,4)"
   ]
  },
  {
   "cell_type": "code",
   "execution_count": 115,
   "metadata": {},
   "outputs": [
    {
     "name": "stdout",
     "output_type": "stream",
     "text": [
      "(9,) (9,)\n"
     ]
    },
    {
     "data": {
      "text/plain": [
       "False"
      ]
     },
     "execution_count": 115,
     "metadata": {},
     "output_type": "execute_result"
    }
   ],
   "source": [
    "print(x.shape,y.shape)\n",
    "np.array_equal(x,y)"
   ]
  },
  {
   "cell_type": "code",
   "execution_count": 198,
   "metadata": {},
   "outputs": [
    {
     "name": "stdout",
     "output_type": "stream",
     "text": [
      "[[ 1 13 25 37 50 62 74 86 99]\n",
      " [91 92 93 94 95 96 97 98 99]\n",
      " [ 1  2  3  4  5  6  7  8  9]\n",
      " [ 1 13 25 37 50 62 74 86 99]]\n",
      "\n",
      "[[13  1  1 25 62 37 50]\n",
      " [92 91 91 93 96 94 95]\n",
      " [ 2  1  1  3  6  4  5]\n",
      " [13  1  1 25 62 37 50]]\n"
     ]
    }
   ],
   "source": [
    "z=np.array([np.arange(1,10,1),np.linspace(1,99,9),np.arange(91,100,1)],dtype=int)\n",
    "print(z[[1,2,0,1]],end=\"\\n\\n\")\n",
    "print(z[[1,2,0,1]] [:,[1,0,0,2,5,3,4]])\n"
   ]
  },
  {
   "cell_type": "code",
   "execution_count": 202,
   "metadata": {},
   "outputs": [
    {
     "data": {
      "text/plain": [
       "array([ 1,  2,  3,  4,  5,  6,  7,  8,  9,  1, 13, 25, 37, 50, 62, 74, 86,\n",
       "       99, 91, 92, 93, 94, 95, 96, 97, 98, 99])"
      ]
     },
     "execution_count": 202,
     "metadata": {},
     "output_type": "execute_result"
    }
   ],
   "source": [
    "z.ravel()"
   ]
  },
  {
   "cell_type": "code",
   "execution_count": 205,
   "metadata": {},
   "outputs": [
    {
     "data": {
      "text/plain": [
       "array([[ 1,  2,  3],\n",
       "       [ 4,  5,  6],\n",
       "       [ 7,  8,  9],\n",
       "       [ 1, 13, 25],\n",
       "       [37, 50, 62],\n",
       "       [74, 86, 99],\n",
       "       [91, 92, 93],\n",
       "       [94, 95, 96],\n",
       "       [97, 98, 99]])"
      ]
     },
     "execution_count": 205,
     "metadata": {},
     "output_type": "execute_result"
    }
   ],
   "source": [
    "z.reshape(9,3)"
   ]
  },
  {
   "cell_type": "code",
   "execution_count": 221,
   "metadata": {},
   "outputs": [
    {
     "name": "stdout",
     "output_type": "stream",
     "text": [
      "(3, 9) (9,)\n"
     ]
    },
    {
     "data": {
      "text/plain": [
       "array([1.   , 1.125, 1.25 , 1.375, 1.5  , 1.625, 1.75 , 1.875, 2.   ,\n",
       "       1.   , 2.   , 6.   , 4.   , 5.   , 7.   , 9.   , 3.   , 5.   ])"
      ]
     },
     "execution_count": 221,
     "metadata": {},
     "output_type": "execute_result"
    }
   ],
   "source": [
    "print(z.shape,x.shape)\n",
    "np.concatenate((x,np.array([1,2,6,4,5,7,9,3,5])))"
   ]
  },
  {
   "cell_type": "code",
   "execution_count": 226,
   "metadata": {},
   "outputs": [
    {
     "name": "stdout",
     "output_type": "stream",
     "text": [
      "[[ 1  2  3  4  5  6  7  8  9]\n",
      " [ 1 13 25 37 50 62 74 86 99]\n",
      " [91 92 93 94 95 96 97 98 99]] [[1.   ]\n",
      " [1.125]\n",
      " [1.25 ]\n",
      " [1.375]\n",
      " [1.5  ]\n",
      " [1.625]\n",
      " [1.75 ]\n",
      " [1.875]\n",
      " [2.   ]] (3, 9) (9,)\n"
     ]
    }
   ],
   "source": [
    "print(z,x.reshape(9,1),z.shape,x.shape)"
   ]
  },
  {
   "cell_type": "code",
   "execution_count": 235,
   "metadata": {},
   "outputs": [
    {
     "data": {
      "text/plain": [
       "[array([[1, 2, 3, 4, 5, 6, 7, 8, 9]]),\n",
       " array([[ 1, 13, 25, 37, 50, 62, 74, 86, 99]]),\n",
       " array([[91, 92, 93, 94, 95, 96, 97, 98, 99]])]"
      ]
     },
     "execution_count": 235,
     "metadata": {},
     "output_type": "execute_result"
    }
   ],
   "source": [
    "np.vsplit(z,3)"
   ]
  },
  {
   "cell_type": "code",
   "execution_count": 236,
   "metadata": {},
   "outputs": [
    {
     "data": {
      "text/plain": [
       "array([[1, 2, 3],\n",
       "       [4, 5, 6],\n",
       "       [7, 8, 9]])"
      ]
     },
     "execution_count": 236,
     "metadata": {},
     "output_type": "execute_result"
    }
   ],
   "source": [
    "list_1 = [1, 2 , 3]\n",
    "list_2 = [4, 5, 6]\n",
    "list_3 = [7, 8, 9]\n",
    "np.array([list_1,list_2,list_3])"
   ]
  },
  {
   "cell_type": "code",
   "execution_count": 245,
   "metadata": {},
   "outputs": [
    {
     "data": {
      "text/plain": [
       "[14, 24, 36, 30]"
      ]
     },
     "execution_count": 245,
     "metadata": {},
     "output_type": "execute_result"
    }
   ],
   "source": [
    "list_1 = [2,3,4,5]\n",
    "list_2 = [7,8,9,6]\n",
    "l1,l2=np.array([list_1]),np.array([list_2])\n",
    "(l1*l2).tolist()[0]"
   ]
  },
  {
   "cell_type": "code",
   "execution_count": 250,
   "metadata": {},
   "outputs": [
    {
     "data": {
      "text/plain": [
       "array([[1, 1, 1],\n",
       "       [1, 1, 1],\n",
       "       [1, 1, 1]])"
      ]
     },
     "execution_count": 250,
     "metadata": {},
     "output_type": "execute_result"
    }
   ],
   "source": [
    "x,m,n=int(input()),int(input()),int(input())\n",
    "np.full((m,n),x)"
   ]
  },
  {
   "cell_type": "code",
   "execution_count": 252,
   "metadata": {},
   "outputs": [
    {
     "data": {
      "text/plain": [
       "array([ 5, 10, 15, 20, 25, 30, 35, 40, 45, 50])"
      ]
     },
     "execution_count": 252,
     "metadata": {},
     "output_type": "execute_result"
    }
   ],
   "source": [
    "np.arange(5,51,5)"
   ]
  },
  {
   "cell_type": "code",
   "execution_count": 259,
   "metadata": {},
   "outputs": [
    {
     "name": "stdout",
     "output_type": "stream",
     "text": [
      "(2, 4) 2\n"
     ]
    }
   ],
   "source": [
    "list_1 = [10,11,12,13]\n",
    "list_2 = [15,12,13,14]\n",
    "x=np.array([list_1,list_2])\n",
    "print(np.shape(x),np.ndim(x))"
   ]
  },
  {
   "cell_type": "code",
   "execution_count": 261,
   "metadata": {},
   "outputs": [
    {
     "name": "stdout",
     "output_type": "stream",
     "text": [
      "[1 2 3]\n",
      "[1 3 4 7 5 2]\n"
     ]
    }
   ],
   "source": [
    "array_1 = np.array([1,2,3,5,4,6,7,8,5,3,2])\n",
    "print(array_1[:3])#slice of 0 to 2\n",
    "print(array_1[0::2])#jump of 2 from 0 index"
   ]
  },
  {
   "cell_type": "code",
   "execution_count": 269,
   "metadata": {},
   "outputs": [
    {
     "data": {
      "text/plain": [
       "array([2, 5, 8])"
      ]
     },
     "execution_count": 269,
     "metadata": {},
     "output_type": "execute_result"
    }
   ],
   "source": [
    "np.array([(1,2,3),(4,5,6),(7,8,9)])[:,1]"
   ]
  },
  {
   "cell_type": "code",
   "execution_count": 277,
   "metadata": {},
   "outputs": [
    {
     "name": "stdout",
     "output_type": "stream",
     "text": [
      "[11 21 31] [11 12 13 14] [14 24 34] [31 32 33 34]\n"
     ]
    }
   ],
   "source": [
    "x=np.array([(11,12,13,14),(21,22,23,24),(31,32,33,34)])\n",
    "print(x[:,0],x[0],x[:,-1],x[-1])"
   ]
  },
  {
   "cell_type": "code",
   "execution_count": 285,
   "metadata": {},
   "outputs": [
    {
     "data": {
      "text/plain": [
       "array([0.2, 0.4, 0.6, 1. , 0.8, 1.2, 1.4, 1.6, 1. , 0.6, 0.4])"
      ]
     },
     "execution_count": 285,
     "metadata": {},
     "output_type": "execute_result"
    }
   ],
   "source": [
    "array_3 = np.array([1,2,3,5,4,6,7,8,5,3,2])\n",
    "x=np.vectorize(np.divide)\n",
    "x(array_3,5)"
   ]
  },
  {
   "cell_type": "code",
   "execution_count": 295,
   "metadata": {},
   "outputs": [
    {
     "name": "stdout",
     "output_type": "stream",
     "text": [
      "[[-0.4         0.06666667  0.13333333 -0.13333333]\n",
      " [ 0.52       -0.85333333  0.39333333  0.20666667]\n",
      " [ 0.12        0.54666667 -0.30666667 -0.09333333]\n",
      " [-0.2         0.2        -0.1         0.1       ]]\n",
      "\n",
      "[17.26732416  5.44651327 -1.85318104 -0.8606564 ]\n",
      "\n",
      "[[ 0.20494621  0.29610733 -0.65122105  0.0073581 ]\n",
      " [ 0.51981704  0.11206506 -0.17685272 -0.82137942]\n",
      " [ 0.76476412  0.36417168  0.73725233  0.54302265]\n",
      " [ 0.32081636 -0.87586578 -0.03306444  0.17437919]]\n",
      "\n",
      "150.00000000000009\n"
     ]
    }
   ],
   "source": [
    "array_1 = np.array([(1,2,3,0),(5,4,6,4),(9,7,8,5),(1,3,2,7)])\n",
    "print(np.linalg.inv(array_1),np.linalg.eigvals(array_1),np.linalg.eig(array_1)[1],np.linalg.det(array_1),sep=\"\\n\\n\")"
   ]
  },
  {
   "cell_type": "code",
   "execution_count": 1,
   "metadata": {},
   "outputs": [],
   "source": [
    "#pandas practise from here\n",
    "import pandas as pd"
   ]
  },
  {
   "cell_type": "code",
   "execution_count": 13,
   "metadata": {},
   "outputs": [],
   "source": [
    "df=pd.read_csv('KnowYourCohort.csv')"
   ]
  },
  {
   "cell_type": "code",
   "execution_count": 15,
   "metadata": {},
   "outputs": [
    {
     "data": {
      "text/plain": [
       "7"
      ]
     },
     "execution_count": 15,
     "metadata": {},
     "output_type": "execute_result"
    }
   ],
   "source": [
    "df['Years Of Exp']=df['Years Of Exp'].apply(lambda x:x.split('+')[0]).astype(float)\n",
    "round(df['Years Of Exp'].mean())"
   ]
  },
  {
   "cell_type": "code",
   "execution_count": 19,
   "metadata": {},
   "outputs": [
    {
     "data": {
      "text/plain": [
       "3"
      ]
     },
     "execution_count": 19,
     "metadata": {},
     "output_type": "execute_result"
    }
   ],
   "source": [
    "len(df[df['Years Of Exp']>10])"
   ]
  },
  {
   "cell_type": "code",
   "execution_count": 21,
   "metadata": {},
   "outputs": [],
   "source": [
    "df.Gender=df.Gender.apply(lambda x:x.lower())"
   ]
  },
  {
   "cell_type": "code",
   "execution_count": 27,
   "metadata": {},
   "outputs": [
    {
     "data": {
      "text/plain": [
       "male      90.05848\n",
       "female     9.94152\n",
       "Name: Gender, dtype: float64"
      ]
     },
     "execution_count": 27,
     "metadata": {},
     "output_type": "execute_result"
    }
   ],
   "source": [
    "100*df.Gender.value_counts(normalize=True)"
   ]
  },
  {
   "cell_type": "code",
   "execution_count": 30,
   "metadata": {},
   "outputs": [],
   "source": [
    "df.City=df.City.apply(lambda x:x.lower())\n",
    "df.City=df.City.apply(lambda x:x.split(',')[0])\n",
    "df.City=df.City.apply(lambda x:x.split(' ')[0])"
   ]
  },
  {
   "cell_type": "code",
   "execution_count": 46,
   "metadata": {},
   "outputs": [],
   "source": [
    "df.City=df.City.replace(['bangalore','banglore','bangalore'],'bengaluru')"
   ]
  },
  {
   "cell_type": "code",
   "execution_count": 48,
   "metadata": {},
   "outputs": [
    {
     "data": {
      "text/plain": [
       "bengaluru     56.140351\n",
       "pune           8.771930\n",
       "hyderabad      5.847953\n",
       "kolkata        4.093567\n",
       "mumbai         2.923977\n",
       "chennai        2.923977\n",
       "delhi          2.339181\n",
       "gurgaon        1.754386\n",
       "new            1.754386\n",
       "ghaziabad      1.169591\n",
       "noida          1.169591\n",
       "faridabad      1.169591\n",
       "cary           0.584795\n",
       "nantong        0.584795\n",
       "durban         0.584795\n",
       "gurugram       0.584795\n",
       "chandigarh     0.584795\n",
       "mysuru         0.584795\n",
       "melbourne      0.584795\n",
       "dubai          0.584795\n",
       "jaipur         0.584795\n",
       "houston        0.584795\n",
       "pittsburgh     0.584795\n",
       "ahmedabad      0.584795\n",
       "charlotte      0.584795\n",
       "jamshedpur     0.584795\n",
       "ludhiana       0.584795\n",
       "vijayawada     0.584795\n",
       "mangalore      0.584795\n",
       "Name: City, dtype: float64"
      ]
     },
     "execution_count": 48,
     "metadata": {},
     "output_type": "execute_result"
    }
   ],
   "source": [
    "100*df.City.value_counts(normalize=True)"
   ]
  },
  {
   "cell_type": "code",
   "execution_count": 49,
   "metadata": {},
   "outputs": [
    {
     "data": {
      "text/plain": [
       "'pune'"
      ]
     },
     "execution_count": 49,
     "metadata": {},
     "output_type": "execute_result"
    }
   ],
   "source": [
    "df.City.value_counts().index[1]"
   ]
  }
 ],
 "metadata": {
  "interpreter": {
   "hash": "916dbcbb3f70747c44a77c7bcd40155683ae19c65e1c03b4aa3499c5328201f1"
  },
  "kernelspec": {
   "display_name": "Python 3.8.10 64-bit",
   "name": "python3"
  },
  "language_info": {
   "codemirror_mode": {
    "name": "ipython",
    "version": 3
   },
   "file_extension": ".py",
   "mimetype": "text/x-python",
   "name": "python",
   "nbconvert_exporter": "python",
   "pygments_lexer": "ipython3",
   "version": "3.8.10"
  },
  "orig_nbformat": 4
 },
 "nbformat": 4,
 "nbformat_minor": 2
}
