{
 "cells": [
  {
   "cell_type": "code",
   "execution_count": 1,
   "metadata": {},
   "outputs": [],
   "source": [
    "import numpy as np"
   ]
  },
  {
   "cell_type": "code",
   "execution_count": 2,
   "metadata": {},
   "outputs": [],
   "source": [
    "import pandas as pd"
   ]
  },
  {
   "cell_type": "code",
   "execution_count": 3,
   "metadata": {},
   "outputs": [],
   "source": [
    "import matplotlib.pyplot as plt\n",
    "import seaborn as sb"
   ]
  },
  {
   "cell_type": "code",
   "execution_count": 4,
   "metadata": {},
   "outputs": [],
   "source": [
    "import scipy.stats as st"
   ]
  },
  {
   "cell_type": "code",
   "execution_count": 4,
   "metadata": {},
   "outputs": [],
   "source": [
    "dict={\"Roll Number\":[1,2,3,4,5],\"Names\": [\"A\",\"B\",\"C\",\"D\",\"E\"],\"Marks\": [88,99,77,54,96]}\n",
    "df=pd.DataFrame(dict)"
   ]
  },
  {
   "cell_type": "code",
   "execution_count": 9,
   "metadata": {},
   "outputs": [
    {
     "name": "stdout",
     "output_type": "stream",
     "text": [
      "<class 'pandas.core.frame.DataFrame'>\n",
      "RangeIndex: 5 entries, 0 to 4\n",
      "Data columns (total 3 columns):\n",
      " #   Column       Non-Null Count  Dtype \n",
      "---  ------       --------------  ----- \n",
      " 0   Roll Number  5 non-null      int64 \n",
      " 1   Names        5 non-null      object\n",
      " 2   Marks        5 non-null      int64 \n",
      "dtypes: int64(2), object(1)\n",
      "memory usage: 248.0+ bytes\n"
     ]
    }
   ],
   "source": [
    "df.info()"
   ]
  },
  {
   "cell_type": "code",
   "execution_count": 20,
   "metadata": {},
   "outputs": [
    {
     "data": {
      "text/html": [
       "<div>\n",
       "<style scoped>\n",
       "    .dataframe tbody tr th:only-of-type {\n",
       "        vertical-align: middle;\n",
       "    }\n",
       "\n",
       "    .dataframe tbody tr th {\n",
       "        vertical-align: top;\n",
       "    }\n",
       "\n",
       "    .dataframe thead th {\n",
       "        text-align: right;\n",
       "    }\n",
       "</style>\n",
       "<table border=\"1\" class=\"dataframe\">\n",
       "  <thead>\n",
       "    <tr style=\"text-align: right;\">\n",
       "      <th></th>\n",
       "      <th>Roll Number</th>\n",
       "      <th>Marks</th>\n",
       "    </tr>\n",
       "  </thead>\n",
       "  <tbody>\n",
       "    <tr>\n",
       "      <th>count</th>\n",
       "      <td>5.000000</td>\n",
       "      <td>5.000000</td>\n",
       "    </tr>\n",
       "    <tr>\n",
       "      <th>mean</th>\n",
       "      <td>3.000000</td>\n",
       "      <td>82.800000</td>\n",
       "    </tr>\n",
       "    <tr>\n",
       "      <th>std</th>\n",
       "      <td>1.581139</td>\n",
       "      <td>18.212633</td>\n",
       "    </tr>\n",
       "    <tr>\n",
       "      <th>min</th>\n",
       "      <td>1.000000</td>\n",
       "      <td>54.000000</td>\n",
       "    </tr>\n",
       "    <tr>\n",
       "      <th>50%</th>\n",
       "      <td>3.000000</td>\n",
       "      <td>88.000000</td>\n",
       "    </tr>\n",
       "    <tr>\n",
       "      <th>80%</th>\n",
       "      <td>4.200000</td>\n",
       "      <td>96.600000</td>\n",
       "    </tr>\n",
       "    <tr>\n",
       "      <th>90%</th>\n",
       "      <td>4.600000</td>\n",
       "      <td>97.800000</td>\n",
       "    </tr>\n",
       "    <tr>\n",
       "      <th>99%</th>\n",
       "      <td>4.960000</td>\n",
       "      <td>98.880000</td>\n",
       "    </tr>\n",
       "    <tr>\n",
       "      <th>max</th>\n",
       "      <td>5.000000</td>\n",
       "      <td>99.000000</td>\n",
       "    </tr>\n",
       "  </tbody>\n",
       "</table>\n",
       "</div>"
      ],
      "text/plain": [
       "       Roll Number      Marks\n",
       "count     5.000000   5.000000\n",
       "mean      3.000000  82.800000\n",
       "std       1.581139  18.212633\n",
       "min       1.000000  54.000000\n",
       "50%       3.000000  88.000000\n",
       "80%       4.200000  96.600000\n",
       "90%       4.600000  97.800000\n",
       "99%       4.960000  98.880000\n",
       "max       5.000000  99.000000"
      ]
     },
     "execution_count": 20,
     "metadata": {},
     "output_type": "execute_result"
    }
   ],
   "source": [
    "df.describe([.90,.99,.80])"
   ]
  },
  {
   "cell_type": "code",
   "execution_count": 21,
   "metadata": {},
   "outputs": [],
   "source": [
    "df=pd.read_csv('KnowYourCohort.csv')"
   ]
  },
  {
   "cell_type": "code",
   "execution_count": 38,
   "metadata": {},
   "outputs": [
    {
     "data": {
      "text/plain": [
       "7.37"
      ]
     },
     "execution_count": 38,
     "metadata": {},
     "output_type": "execute_result"
    }
   ],
   "source": [
    "round(df[\"Years Of Exp\"].mean(),2)"
   ]
  },
  {
   "cell_type": "code",
   "execution_count": 40,
   "metadata": {},
   "outputs": [
    {
     "data": {
      "text/html": [
       "<div>\n",
       "<style scoped>\n",
       "    .dataframe tbody tr th:only-of-type {\n",
       "        vertical-align: middle;\n",
       "    }\n",
       "\n",
       "    .dataframe tbody tr th {\n",
       "        vertical-align: top;\n",
       "    }\n",
       "\n",
       "    .dataframe thead th {\n",
       "        text-align: right;\n",
       "    }\n",
       "</style>\n",
       "<table border=\"1\" class=\"dataframe\">\n",
       "  <thead>\n",
       "    <tr style=\"text-align: right;\">\n",
       "      <th></th>\n",
       "      <th>Years Of Exp</th>\n",
       "      <th>Company Name</th>\n",
       "      <th>Job Title</th>\n",
       "      <th>Field of Study</th>\n",
       "      <th>Major</th>\n",
       "      <th>School Name</th>\n",
       "      <th>Gender</th>\n",
       "      <th>City</th>\n",
       "      <th>State</th>\n",
       "    </tr>\n",
       "  </thead>\n",
       "  <tbody>\n",
       "    <tr>\n",
       "      <th>1</th>\n",
       "      <td>10.0</td>\n",
       "      <td>Accenture</td>\n",
       "      <td>Machine Learning Engineer</td>\n",
       "      <td>Accounting &amp; Auditing</td>\n",
       "      <td>B.Com</td>\n",
       "      <td>Sri Venkateswara University</td>\n",
       "      <td>male</td>\n",
       "      <td>Bengaluru, Karnataka, India</td>\n",
       "      <td>Karnataka</td>\n",
       "    </tr>\n",
       "    <tr>\n",
       "      <th>3</th>\n",
       "      <td>10.0</td>\n",
       "      <td>APIIC</td>\n",
       "      <td>Project Manager</td>\n",
       "      <td>Civil Engineering</td>\n",
       "      <td>B.Tech</td>\n",
       "      <td>Acharya Nagarjuna University</td>\n",
       "      <td>male</td>\n",
       "      <td>vijayawada</td>\n",
       "      <td>Andhra Pradesh</td>\n",
       "    </tr>\n",
       "    <tr>\n",
       "      <th>4</th>\n",
       "      <td>10.0</td>\n",
       "      <td>Informatica</td>\n",
       "      <td>QA Engineer</td>\n",
       "      <td>Computer Science / Engineering</td>\n",
       "      <td>B.E</td>\n",
       "      <td>College of Engineering - Guindy, Anna University</td>\n",
       "      <td>male</td>\n",
       "      <td>Bengaluru</td>\n",
       "      <td>Karnataka</td>\n",
       "    </tr>\n",
       "    <tr>\n",
       "      <th>5</th>\n",
       "      <td>10.0</td>\n",
       "      <td>CA Technologies</td>\n",
       "      <td>Technical Architect</td>\n",
       "      <td>Textile</td>\n",
       "      <td>B.Tech</td>\n",
       "      <td>Indian Institute of Technology Delhi</td>\n",
       "      <td>male</td>\n",
       "      <td>Bangalore</td>\n",
       "      <td>Karnataka</td>\n",
       "    </tr>\n",
       "    <tr>\n",
       "      <th>7</th>\n",
       "      <td>10.0</td>\n",
       "      <td>Target Corporation</td>\n",
       "      <td>Director Technology - Corporate Systems</td>\n",
       "      <td>Electrical Engineering</td>\n",
       "      <td>B.E</td>\n",
       "      <td>Guru Jambheshwar University of Science and Tec...</td>\n",
       "      <td>male</td>\n",
       "      <td>Bengaluru</td>\n",
       "      <td>Karnataka</td>\n",
       "    </tr>\n",
       "    <tr>\n",
       "      <th>...</th>\n",
       "      <td>...</td>\n",
       "      <td>...</td>\n",
       "      <td>...</td>\n",
       "      <td>...</td>\n",
       "      <td>...</td>\n",
       "      <td>...</td>\n",
       "      <td>...</td>\n",
       "      <td>...</td>\n",
       "      <td>...</td>\n",
       "    </tr>\n",
       "    <tr>\n",
       "      <th>160</th>\n",
       "      <td>10.0</td>\n",
       "      <td>Fiserv India Pvt. Ltd</td>\n",
       "      <td>Tech Lead</td>\n",
       "      <td>Information &amp; Technology</td>\n",
       "      <td>B.Tech</td>\n",
       "      <td>University of Madras</td>\n",
       "      <td>male</td>\n",
       "      <td>Pune, Maharashtra, India</td>\n",
       "      <td>Maharashtra</td>\n",
       "    </tr>\n",
       "    <tr>\n",
       "      <th>161</th>\n",
       "      <td>18.0</td>\n",
       "      <td>Virtusa</td>\n",
       "      <td>Associate Manager</td>\n",
       "      <td>Production Engineering</td>\n",
       "      <td>B.E.</td>\n",
       "      <td>NIT Surat</td>\n",
       "      <td>Male</td>\n",
       "      <td>Chennai</td>\n",
       "      <td>Tamil Nadu</td>\n",
       "    </tr>\n",
       "    <tr>\n",
       "      <th>166</th>\n",
       "      <td>10.0</td>\n",
       "      <td>diya systems Mangalore</td>\n",
       "      <td>Consultant</td>\n",
       "      <td>Computer Science / Engineering</td>\n",
       "      <td>B.E</td>\n",
       "      <td>Sri JayaChamarajendra college of Engineering, ...</td>\n",
       "      <td>male</td>\n",
       "      <td>Mangalore</td>\n",
       "      <td>Karnataka</td>\n",
       "    </tr>\n",
       "    <tr>\n",
       "      <th>167</th>\n",
       "      <td>10.0</td>\n",
       "      <td>Boeing</td>\n",
       "      <td>Tech Lead</td>\n",
       "      <td>Electronics &amp; Electrical Engineering</td>\n",
       "      <td>B.Tech</td>\n",
       "      <td>Jawaharlal Nehru University</td>\n",
       "      <td>male</td>\n",
       "      <td>Bengaluru</td>\n",
       "      <td>Karnataka</td>\n",
       "    </tr>\n",
       "    <tr>\n",
       "      <th>168</th>\n",
       "      <td>10.0</td>\n",
       "      <td>Sap Labs India Pvt Ltd</td>\n",
       "      <td>Automated Testing</td>\n",
       "      <td>Industrial Production / Engineering</td>\n",
       "      <td>B.E</td>\n",
       "      <td>BMS CE</td>\n",
       "      <td>female</td>\n",
       "      <td>Bangalore</td>\n",
       "      <td>Karnataka</td>\n",
       "    </tr>\n",
       "  </tbody>\n",
       "</table>\n",
       "<p>80 rows × 9 columns</p>\n",
       "</div>"
      ],
      "text/plain": [
       "     Years Of Exp            Company Name  \\\n",
       "1            10.0               Accenture   \n",
       "3            10.0                   APIIC   \n",
       "4            10.0             Informatica   \n",
       "5            10.0         CA Technologies   \n",
       "7            10.0      Target Corporation   \n",
       "..            ...                     ...   \n",
       "160          10.0   Fiserv India Pvt. Ltd   \n",
       "161          18.0                 Virtusa   \n",
       "166          10.0  diya systems Mangalore   \n",
       "167          10.0                  Boeing   \n",
       "168          10.0  Sap Labs India Pvt Ltd   \n",
       "\n",
       "                                   Job Title  \\\n",
       "1                  Machine Learning Engineer   \n",
       "3                            Project Manager   \n",
       "4                                QA Engineer   \n",
       "5                        Technical Architect   \n",
       "7    Director Technology - Corporate Systems   \n",
       "..                                       ...   \n",
       "160                                Tech Lead   \n",
       "161                        Associate Manager   \n",
       "166                               Consultant   \n",
       "167                                Tech Lead   \n",
       "168                        Automated Testing   \n",
       "\n",
       "                           Field of Study   Major  \\\n",
       "1                   Accounting & Auditing   B.Com   \n",
       "3                       Civil Engineering  B.Tech   \n",
       "4          Computer Science / Engineering     B.E   \n",
       "5                                 Textile  B.Tech   \n",
       "7                  Electrical Engineering     B.E   \n",
       "..                                    ...     ...   \n",
       "160              Information & Technology  B.Tech   \n",
       "161                Production Engineering    B.E.   \n",
       "166        Computer Science / Engineering     B.E   \n",
       "167  Electronics & Electrical Engineering  B.Tech   \n",
       "168   Industrial Production / Engineering     B.E   \n",
       "\n",
       "                                           School Name  Gender  \\\n",
       "1                          Sri Venkateswara University    male   \n",
       "3                         Acharya Nagarjuna University    male   \n",
       "4     College of Engineering - Guindy, Anna University    male   \n",
       "5                 Indian Institute of Technology Delhi    male   \n",
       "7    Guru Jambheshwar University of Science and Tec...    male   \n",
       "..                                                 ...     ...   \n",
       "160                               University of Madras    male   \n",
       "161                                          NIT Surat    Male   \n",
       "166  Sri JayaChamarajendra college of Engineering, ...    male   \n",
       "167                        Jawaharlal Nehru University    male   \n",
       "168                                             BMS CE  female   \n",
       "\n",
       "                            City           State  \n",
       "1    Bengaluru, Karnataka, India       Karnataka  \n",
       "3                     vijayawada  Andhra Pradesh  \n",
       "4                      Bengaluru       Karnataka  \n",
       "5                      Bangalore       Karnataka  \n",
       "7                      Bengaluru       Karnataka  \n",
       "..                           ...             ...  \n",
       "160     Pune, Maharashtra, India     Maharashtra  \n",
       "161                      Chennai      Tamil Nadu  \n",
       "166                    Mangalore       Karnataka  \n",
       "167                    Bengaluru       Karnataka  \n",
       "168                    Bangalore       Karnataka  \n",
       "\n",
       "[80 rows x 9 columns]"
      ]
     },
     "execution_count": 40,
     "metadata": {},
     "output_type": "execute_result"
    }
   ],
   "source": [
    "df[df[\"Years Of Exp\"]>9]"
   ]
  },
  {
   "cell_type": "code",
   "execution_count": 46,
   "metadata": {},
   "outputs": [],
   "source": [
    "df['Gender']=df['Gender'].apply(lambda x:x.lower())\n",
    "#df[df['Gender'].unique()=='female']"
   ]
  },
  {
   "cell_type": "code",
   "execution_count": 56,
   "metadata": {},
   "outputs": [
    {
     "data": {
      "text/plain": [
       "9.94"
      ]
     },
     "execution_count": 56,
     "metadata": {},
     "output_type": "execute_result"
    }
   ],
   "source": [
    "round(100*(df['Gender'].value_counts()[1])/len(df['Gender']),2)"
   ]
  },
  {
   "cell_type": "code",
   "execution_count": 58,
   "metadata": {},
   "outputs": [
    {
     "data": {
      "text/plain": [
       "42"
      ]
     },
     "execution_count": 58,
     "metadata": {},
     "output_type": "execute_result"
    }
   ],
   "source": [
    "df['City'].nunique()"
   ]
  },
  {
   "cell_type": "code",
   "execution_count": 65,
   "metadata": {},
   "outputs": [],
   "source": [
    "df['City']=df['City'].apply(lambda x:x.split(',')[0])"
   ]
  },
  {
   "cell_type": "code",
   "execution_count": 74,
   "metadata": {},
   "outputs": [
    {
     "data": {
      "text/plain": [
       "array(['bengaluru', 'chennai', 'vijayawada', 'pune', 'delhi', 'mumbai',\n",
       "       'ludhiana', 'noida', 'hyderabad', 'jamshedpur', 'charlotte',\n",
       "       'ahmedabad', 'ghaziabad', 'kolkata', 'jaipur', 'faridabad',\n",
       "       'gurgaon', 'pittsburgh', 'houston', 'new delhi', 'nantong',\n",
       "       'melbourne', 'mysuru', 'durban', 'dubai', 'cary', 'gurugram',\n",
       "       'chandigarh', 'mangalore'], dtype=object)"
      ]
     },
     "execution_count": 74,
     "metadata": {},
     "output_type": "execute_result"
    }
   ],
   "source": [
    "df.City.unique()"
   ]
  },
  {
   "cell_type": "code",
   "execution_count": 71,
   "metadata": {},
   "outputs": [],
   "source": [
    "wrong_name_lst=['bangalore','bengaluru area','banglore']\n",
    "right_name='bengaluru'\n",
    "\n",
    "df['City']=df[\"City\"].replace(wrong_name_lst,right_name)"
   ]
  },
  {
   "cell_type": "code",
   "execution_count": 75,
   "metadata": {},
   "outputs": [],
   "source": [
    "df['City']=df[\"City\"].replace('gurugram','gurgaon')"
   ]
  },
  {
   "cell_type": "code",
   "execution_count": 76,
   "metadata": {},
   "outputs": [
    {
     "data": {
      "text/plain": [
       "bengaluru     0.561404\n",
       "pune          0.087719\n",
       "hyderabad     0.058480\n",
       "kolkata       0.040936\n",
       "mumbai        0.029240\n",
       "chennai       0.029240\n",
       "delhi         0.023392\n",
       "gurgaon       0.023392\n",
       "new delhi     0.017544\n",
       "noida         0.011696\n",
       "faridabad     0.011696\n",
       "ghaziabad     0.011696\n",
       "melbourne     0.005848\n",
       "dubai         0.005848\n",
       "mysuru        0.005848\n",
       "durban        0.005848\n",
       "cary          0.005848\n",
       "chandigarh    0.005848\n",
       "nantong       0.005848\n",
       "jaipur        0.005848\n",
       "houston       0.005848\n",
       "pittsburgh    0.005848\n",
       "ahmedabad     0.005848\n",
       "charlotte     0.005848\n",
       "jamshedpur    0.005848\n",
       "ludhiana      0.005848\n",
       "vijayawada    0.005848\n",
       "mangalore     0.005848\n",
       "Name: City, dtype: float64"
      ]
     },
     "execution_count": 76,
     "metadata": {},
     "output_type": "execute_result"
    }
   ],
   "source": [
    "df.City.value_counts(normalize=True)"
   ]
  },
  {
   "cell_type": "code",
   "execution_count": 78,
   "metadata": {},
   "outputs": [
    {
     "data": {
      "text/plain": [
       "'pune'"
      ]
     },
     "execution_count": 78,
     "metadata": {},
     "output_type": "execute_result"
    }
   ],
   "source": [
    "df.City.value_counts().index[1]"
   ]
  },
  {
   "cell_type": "code",
   "execution_count": 31,
   "metadata": {},
   "outputs": [],
   "source": [
    "market_df=pd.read_csv('market_fact.csv')"
   ]
  },
  {
   "cell_type": "code",
   "execution_count": 4,
   "metadata": {},
   "outputs": [
    {
     "name": "stdout",
     "output_type": "stream",
     "text": [
      "<class 'pandas.core.frame.DataFrame'>\n",
      "RangeIndex: 8399 entries, 0 to 8398\n",
      "Data columns (total 10 columns):\n",
      " #   Column               Non-Null Count  Dtype  \n",
      "---  ------               --------------  -----  \n",
      " 0   Ord_id               8399 non-null   object \n",
      " 1   Prod_id              8399 non-null   object \n",
      " 2   Ship_id              8399 non-null   object \n",
      " 3   Cust_id              8399 non-null   object \n",
      " 4   Sales                8399 non-null   float64\n",
      " 5   Discount             8399 non-null   float64\n",
      " 6   Order_Quantity       8399 non-null   int64  \n",
      " 7   Profit               8399 non-null   float64\n",
      " 8   Shipping_Cost        8399 non-null   float64\n",
      " 9   Product_Base_Margin  8336 non-null   float64\n",
      "dtypes: float64(5), int64(1), object(4)\n",
      "memory usage: 656.3+ KB\n"
     ]
    }
   ],
   "source": [
    "market_df.info()"
   ]
  },
  {
   "cell_type": "code",
   "execution_count": 5,
   "metadata": {},
   "outputs": [
    {
     "data": {
      "text/html": [
       "<div>\n",
       "<style scoped>\n",
       "    .dataframe tbody tr th:only-of-type {\n",
       "        vertical-align: middle;\n",
       "    }\n",
       "\n",
       "    .dataframe tbody tr th {\n",
       "        vertical-align: top;\n",
       "    }\n",
       "\n",
       "    .dataframe thead th {\n",
       "        text-align: right;\n",
       "    }\n",
       "</style>\n",
       "<table border=\"1\" class=\"dataframe\">\n",
       "  <thead>\n",
       "    <tr style=\"text-align: right;\">\n",
       "      <th></th>\n",
       "      <th>Sales</th>\n",
       "      <th>Discount</th>\n",
       "      <th>Order_Quantity</th>\n",
       "      <th>Profit</th>\n",
       "      <th>Shipping_Cost</th>\n",
       "      <th>Product_Base_Margin</th>\n",
       "    </tr>\n",
       "  </thead>\n",
       "  <tbody>\n",
       "    <tr>\n",
       "      <th>count</th>\n",
       "      <td>8399.000000</td>\n",
       "      <td>8399.000000</td>\n",
       "      <td>8399.000000</td>\n",
       "      <td>8399.000000</td>\n",
       "      <td>8399.000000</td>\n",
       "      <td>8336.000000</td>\n",
       "    </tr>\n",
       "    <tr>\n",
       "      <th>mean</th>\n",
       "      <td>1775.878179</td>\n",
       "      <td>0.049671</td>\n",
       "      <td>25.571735</td>\n",
       "      <td>181.184424</td>\n",
       "      <td>12.838557</td>\n",
       "      <td>0.512513</td>\n",
       "    </tr>\n",
       "    <tr>\n",
       "      <th>std</th>\n",
       "      <td>3585.050525</td>\n",
       "      <td>0.031823</td>\n",
       "      <td>14.481071</td>\n",
       "      <td>1196.653371</td>\n",
       "      <td>17.264052</td>\n",
       "      <td>0.135589</td>\n",
       "    </tr>\n",
       "    <tr>\n",
       "      <th>min</th>\n",
       "      <td>2.240000</td>\n",
       "      <td>0.000000</td>\n",
       "      <td>1.000000</td>\n",
       "      <td>-14140.700000</td>\n",
       "      <td>0.490000</td>\n",
       "      <td>0.350000</td>\n",
       "    </tr>\n",
       "    <tr>\n",
       "      <th>25%</th>\n",
       "      <td>143.195000</td>\n",
       "      <td>0.020000</td>\n",
       "      <td>13.000000</td>\n",
       "      <td>-83.315000</td>\n",
       "      <td>3.300000</td>\n",
       "      <td>0.380000</td>\n",
       "    </tr>\n",
       "    <tr>\n",
       "      <th>50%</th>\n",
       "      <td>449.420000</td>\n",
       "      <td>0.050000</td>\n",
       "      <td>26.000000</td>\n",
       "      <td>-1.500000</td>\n",
       "      <td>6.070000</td>\n",
       "      <td>0.520000</td>\n",
       "    </tr>\n",
       "    <tr>\n",
       "      <th>75%</th>\n",
       "      <td>1709.320000</td>\n",
       "      <td>0.080000</td>\n",
       "      <td>38.000000</td>\n",
       "      <td>162.750000</td>\n",
       "      <td>13.990000</td>\n",
       "      <td>0.590000</td>\n",
       "    </tr>\n",
       "    <tr>\n",
       "      <th>max</th>\n",
       "      <td>89061.050000</td>\n",
       "      <td>0.250000</td>\n",
       "      <td>50.000000</td>\n",
       "      <td>27220.690000</td>\n",
       "      <td>164.730000</td>\n",
       "      <td>0.850000</td>\n",
       "    </tr>\n",
       "  </tbody>\n",
       "</table>\n",
       "</div>"
      ],
      "text/plain": [
       "              Sales     Discount  Order_Quantity        Profit  Shipping_Cost  \\\n",
       "count   8399.000000  8399.000000     8399.000000   8399.000000    8399.000000   \n",
       "mean    1775.878179     0.049671       25.571735    181.184424      12.838557   \n",
       "std     3585.050525     0.031823       14.481071   1196.653371      17.264052   \n",
       "min        2.240000     0.000000        1.000000 -14140.700000       0.490000   \n",
       "25%      143.195000     0.020000       13.000000    -83.315000       3.300000   \n",
       "50%      449.420000     0.050000       26.000000     -1.500000       6.070000   \n",
       "75%     1709.320000     0.080000       38.000000    162.750000      13.990000   \n",
       "max    89061.050000     0.250000       50.000000  27220.690000     164.730000   \n",
       "\n",
       "       Product_Base_Margin  \n",
       "count          8336.000000  \n",
       "mean              0.512513  \n",
       "std               0.135589  \n",
       "min               0.350000  \n",
       "25%               0.380000  \n",
       "50%               0.520000  \n",
       "75%               0.590000  \n",
       "max               0.850000  "
      ]
     },
     "execution_count": 5,
     "metadata": {},
     "output_type": "execute_result"
    }
   ],
   "source": [
    "market_df.describe()"
   ]
  },
  {
   "cell_type": "code",
   "execution_count": 15,
   "metadata": {},
   "outputs": [
    {
     "data": {
      "text/plain": [
       "<AxesSubplot:xlabel='Sales', ylabel='Count'>"
      ]
     },
     "execution_count": 15,
     "metadata": {},
     "output_type": "execute_result"
    },
    {
     "data": {
      "image/png": "[encoded data removed]",
      "text/plain": [
       "<Figure size 432x288 with 1 Axes>"
      ]
     },
     "metadata": {},
     "output_type": "display_data"
    }
   ],
   "source": [
    "sb.histplot(data=market_df,x='Sales',kde=True)"
   ]
  },
  {
   "cell_type": "code",
   "execution_count": 18,
   "metadata": {},
   "outputs": [
    {
     "data": {
      "text/plain": [
       "<AxesSubplot:xlabel='Sales', ylabel='Density'>"
      ]
     },
     "execution_count": 18,
     "metadata": {},
     "output_type": "execute_result"
    },
    {
     "data": {
      "image/png": "[encoded data removed]",
      "text/plain": [
       "<Figure size 432x288 with 1 Axes>"
      ]
     },
     "metadata": {},
     "output_type": "display_data"
    }
   ],
   "source": [
    "sb.kdeplot(x=market_df['Sales'],shade=True,color='red')"
   ]
  },
  {
   "cell_type": "code",
   "execution_count": 22,
   "metadata": {},
   "outputs": [],
   "source": [
    "market_df[\"is_Profit\"]=market_df.Profit.apply(lambda x:'Profit' if x>=0 else 'Loss')"
   ]
  },
  {
   "cell_type": "code",
   "execution_count": 25,
   "metadata": {},
   "outputs": [
    {
     "data": {
      "text/plain": [
       "Loss      50.767949\n",
       "Profit    49.232051\n",
       "Name: is_Profit, dtype: float64"
      ]
     },
     "execution_count": 25,
     "metadata": {},
     "output_type": "execute_result"
    }
   ],
   "source": [
    "100*market_df.is_Profit.value_counts(normalize=True)"
   ]
  },
  {
   "cell_type": "code",
   "execution_count": 26,
   "metadata": {},
   "outputs": [
    {
     "data": {
      "text/html": [
       "<div>\n",
       "<style scoped>\n",
       "    .dataframe tbody tr th:only-of-type {\n",
       "        vertical-align: middle;\n",
       "    }\n",
       "\n",
       "    .dataframe tbody tr th {\n",
       "        vertical-align: top;\n",
       "    }\n",
       "\n",
       "    .dataframe thead th {\n",
       "        text-align: right;\n",
       "    }\n",
       "</style>\n",
       "<table border=\"1\" class=\"dataframe\">\n",
       "  <thead>\n",
       "    <tr style=\"text-align: right;\">\n",
       "      <th></th>\n",
       "      <th>Ord_id</th>\n",
       "      <th>Prod_id</th>\n",
       "      <th>Ship_id</th>\n",
       "      <th>Cust_id</th>\n",
       "      <th>Sales</th>\n",
       "      <th>Discount</th>\n",
       "      <th>Order_Quantity</th>\n",
       "      <th>Profit</th>\n",
       "      <th>Shipping_Cost</th>\n",
       "      <th>Product_Base_Margin</th>\n",
       "      <th>is_Profit</th>\n",
       "    </tr>\n",
       "  </thead>\n",
       "  <tbody>\n",
       "    <tr>\n",
       "      <th>0</th>\n",
       "      <td>Ord_5446</td>\n",
       "      <td>Prod_16</td>\n",
       "      <td>SHP_7609</td>\n",
       "      <td>Cust_1818</td>\n",
       "      <td>136.8100</td>\n",
       "      <td>0.01</td>\n",
       "      <td>23</td>\n",
       "      <td>-30.51</td>\n",
       "      <td>3.60</td>\n",
       "      <td>0.56</td>\n",
       "      <td>Loss</td>\n",
       "    </tr>\n",
       "    <tr>\n",
       "      <th>2</th>\n",
       "      <td>Ord_5446</td>\n",
       "      <td>Prod_4</td>\n",
       "      <td>SHP_7610</td>\n",
       "      <td>Cust_1818</td>\n",
       "      <td>4701.6900</td>\n",
       "      <td>0.00</td>\n",
       "      <td>26</td>\n",
       "      <td>1148.90</td>\n",
       "      <td>2.50</td>\n",
       "      <td>0.59</td>\n",
       "      <td>Profit</td>\n",
       "    </tr>\n",
       "    <tr>\n",
       "      <th>4</th>\n",
       "      <td>Ord_5485</td>\n",
       "      <td>Prod_17</td>\n",
       "      <td>SHP_7664</td>\n",
       "      <td>Cust_1818</td>\n",
       "      <td>4233.1500</td>\n",
       "      <td>0.08</td>\n",
       "      <td>35</td>\n",
       "      <td>1219.87</td>\n",
       "      <td>26.30</td>\n",
       "      <td>0.38</td>\n",
       "      <td>Profit</td>\n",
       "    </tr>\n",
       "    <tr>\n",
       "      <th>6</th>\n",
       "      <td>Ord_31</td>\n",
       "      <td>Prod_12</td>\n",
       "      <td>SHP_41</td>\n",
       "      <td>Cust_26</td>\n",
       "      <td>14.7600</td>\n",
       "      <td>0.01</td>\n",
       "      <td>5</td>\n",
       "      <td>1.32</td>\n",
       "      <td>0.50</td>\n",
       "      <td>0.36</td>\n",
       "      <td>Profit</td>\n",
       "    </tr>\n",
       "    <tr>\n",
       "      <th>8</th>\n",
       "      <td>Ord_4725</td>\n",
       "      <td>Prod_13</td>\n",
       "      <td>SHP_6593</td>\n",
       "      <td>Cust_1641</td>\n",
       "      <td>162.0000</td>\n",
       "      <td>0.01</td>\n",
       "      <td>33</td>\n",
       "      <td>45.84</td>\n",
       "      <td>0.71</td>\n",
       "      <td>0.52</td>\n",
       "      <td>Profit</td>\n",
       "    </tr>\n",
       "    <tr>\n",
       "      <th>...</th>\n",
       "      <td>...</td>\n",
       "      <td>...</td>\n",
       "      <td>...</td>\n",
       "      <td>...</td>\n",
       "      <td>...</td>\n",
       "      <td>...</td>\n",
       "      <td>...</td>\n",
       "      <td>...</td>\n",
       "      <td>...</td>\n",
       "      <td>...</td>\n",
       "      <td>...</td>\n",
       "    </tr>\n",
       "    <tr>\n",
       "      <th>8390</th>\n",
       "      <td>Ord_5435</td>\n",
       "      <td>Prod_16</td>\n",
       "      <td>SHP_7594</td>\n",
       "      <td>Cust_1798</td>\n",
       "      <td>316.9900</td>\n",
       "      <td>0.04</td>\n",
       "      <td>47</td>\n",
       "      <td>-276.54</td>\n",
       "      <td>8.37</td>\n",
       "      <td>0.58</td>\n",
       "      <td>Loss</td>\n",
       "    </tr>\n",
       "    <tr>\n",
       "      <th>8392</th>\n",
       "      <td>Ord_5384</td>\n",
       "      <td>Prod_9</td>\n",
       "      <td>SHP_7519</td>\n",
       "      <td>Cust_1798</td>\n",
       "      <td>181.5000</td>\n",
       "      <td>0.08</td>\n",
       "      <td>43</td>\n",
       "      <td>-6.24</td>\n",
       "      <td>2.50</td>\n",
       "      <td>0.37</td>\n",
       "      <td>Loss</td>\n",
       "    </tr>\n",
       "    <tr>\n",
       "      <th>8394</th>\n",
       "      <td>Ord_5353</td>\n",
       "      <td>Prod_4</td>\n",
       "      <td>SHP_7479</td>\n",
       "      <td>Cust_1798</td>\n",
       "      <td>2841.4395</td>\n",
       "      <td>0.08</td>\n",
       "      <td>28</td>\n",
       "      <td>374.63</td>\n",
       "      <td>7.69</td>\n",
       "      <td>0.59</td>\n",
       "      <td>Profit</td>\n",
       "    </tr>\n",
       "    <tr>\n",
       "      <th>8396</th>\n",
       "      <td>Ord_5388</td>\n",
       "      <td>Prod_6</td>\n",
       "      <td>SHP_7524</td>\n",
       "      <td>Cust_1798</td>\n",
       "      <td>243.0500</td>\n",
       "      <td>0.02</td>\n",
       "      <td>39</td>\n",
       "      <td>-70.85</td>\n",
       "      <td>5.35</td>\n",
       "      <td>0.40</td>\n",
       "      <td>Loss</td>\n",
       "    </tr>\n",
       "    <tr>\n",
       "      <th>8398</th>\n",
       "      <td>Ord_5459</td>\n",
       "      <td>Prod_6</td>\n",
       "      <td>SHP_7628</td>\n",
       "      <td>Cust_1798</td>\n",
       "      <td>603.6900</td>\n",
       "      <td>0.00</td>\n",
       "      <td>47</td>\n",
       "      <td>131.39</td>\n",
       "      <td>4.86</td>\n",
       "      <td>0.38</td>\n",
       "      <td>Profit</td>\n",
       "    </tr>\n",
       "  </tbody>\n",
       "</table>\n",
       "<p>4200 rows × 11 columns</p>\n",
       "</div>"
      ],
      "text/plain": [
       "        Ord_id  Prod_id   Ship_id    Cust_id      Sales  Discount  \\\n",
       "0     Ord_5446  Prod_16  SHP_7609  Cust_1818   136.8100      0.01   \n",
       "2     Ord_5446   Prod_4  SHP_7610  Cust_1818  4701.6900      0.00   \n",
       "4     Ord_5485  Prod_17  SHP_7664  Cust_1818  4233.1500      0.08   \n",
       "6       Ord_31  Prod_12    SHP_41    Cust_26    14.7600      0.01   \n",
       "8     Ord_4725  Prod_13  SHP_6593  Cust_1641   162.0000      0.01   \n",
       "...        ...      ...       ...        ...        ...       ...   \n",
       "8390  Ord_5435  Prod_16  SHP_7594  Cust_1798   316.9900      0.04   \n",
       "8392  Ord_5384   Prod_9  SHP_7519  Cust_1798   181.5000      0.08   \n",
       "8394  Ord_5353   Prod_4  SHP_7479  Cust_1798  2841.4395      0.08   \n",
       "8396  Ord_5388   Prod_6  SHP_7524  Cust_1798   243.0500      0.02   \n",
       "8398  Ord_5459   Prod_6  SHP_7628  Cust_1798   603.6900      0.00   \n",
       "\n",
       "      Order_Quantity   Profit  Shipping_Cost  Product_Base_Margin is_Profit  \n",
       "0                 23   -30.51           3.60                 0.56      Loss  \n",
       "2                 26  1148.90           2.50                 0.59    Profit  \n",
       "4                 35  1219.87          26.30                 0.38    Profit  \n",
       "6                  5     1.32           0.50                 0.36    Profit  \n",
       "8                 33    45.84           0.71                 0.52    Profit  \n",
       "...              ...      ...            ...                  ...       ...  \n",
       "8390              47  -276.54           8.37                 0.58      Loss  \n",
       "8392              43    -6.24           2.50                 0.37      Loss  \n",
       "8394              28   374.63           7.69                 0.59    Profit  \n",
       "8396              39   -70.85           5.35                 0.40      Loss  \n",
       "8398              47   131.39           4.86                 0.38    Profit  \n",
       "\n",
       "[4200 rows x 11 columns]"
      ]
     },
     "execution_count": 26,
     "metadata": {},
     "output_type": "execute_result"
    }
   ],
   "source": [
    "market_df[::2]"
   ]
  },
  {
   "cell_type": "code",
   "execution_count": 5,
   "metadata": {},
   "outputs": [
    {
     "data": {
      "text/html": [
       "<div>\n",
       "<style scoped>\n",
       "    .dataframe tbody tr th:only-of-type {\n",
       "        vertical-align: middle;\n",
       "    }\n",
       "\n",
       "    .dataframe tbody tr th {\n",
       "        vertical-align: top;\n",
       "    }\n",
       "\n",
       "    .dataframe thead th {\n",
       "        text-align: right;\n",
       "    }\n",
       "</style>\n",
       "<table border=\"1\" class=\"dataframe\">\n",
       "  <thead>\n",
       "    <tr style=\"text-align: right;\">\n",
       "      <th></th>\n",
       "      <th>Ord_id</th>\n",
       "      <th>Prod_id</th>\n",
       "      <th>Ship_id</th>\n",
       "      <th>Cust_id</th>\n",
       "      <th>Sales</th>\n",
       "      <th>Discount</th>\n",
       "      <th>Order_Quantity</th>\n",
       "      <th>Profit</th>\n",
       "      <th>Shipping_Cost</th>\n",
       "      <th>Product_Base_Margin</th>\n",
       "    </tr>\n",
       "  </thead>\n",
       "  <tbody>\n",
       "    <tr>\n",
       "      <th>2535</th>\n",
       "      <td>Ord_1158</td>\n",
       "      <td>Prod_15</td>\n",
       "      <td>SHP_1599</td>\n",
       "      <td>Cust_445</td>\n",
       "      <td>473.8800</td>\n",
       "      <td>0.01</td>\n",
       "      <td>4</td>\n",
       "      <td>-183.26</td>\n",
       "      <td>30.00</td>\n",
       "      <td>0.71</td>\n",
       "    </tr>\n",
       "    <tr>\n",
       "      <th>3016</th>\n",
       "      <td>Ord_101</td>\n",
       "      <td>Prod_4</td>\n",
       "      <td>SHP_139</td>\n",
       "      <td>Cust_73</td>\n",
       "      <td>1364.8025</td>\n",
       "      <td>0.07</td>\n",
       "      <td>29</td>\n",
       "      <td>-183.68</td>\n",
       "      <td>5.00</td>\n",
       "      <td>0.83</td>\n",
       "    </tr>\n",
       "    <tr>\n",
       "      <th>7444</th>\n",
       "      <td>Ord_46</td>\n",
       "      <td>Prod_6</td>\n",
       "      <td>SHP_60</td>\n",
       "      <td>Cust_33</td>\n",
       "      <td>217.0000</td>\n",
       "      <td>0.01</td>\n",
       "      <td>41</td>\n",
       "      <td>-61.21</td>\n",
       "      <td>4.75</td>\n",
       "      <td>0.36</td>\n",
       "    </tr>\n",
       "    <tr>\n",
       "      <th>4032</th>\n",
       "      <td>Ord_1170</td>\n",
       "      <td>Prod_5</td>\n",
       "      <td>SHP_1615</td>\n",
       "      <td>Cust_448</td>\n",
       "      <td>231.2700</td>\n",
       "      <td>0.03</td>\n",
       "      <td>11</td>\n",
       "      <td>89.29</td>\n",
       "      <td>6.67</td>\n",
       "      <td>0.49</td>\n",
       "    </tr>\n",
       "    <tr>\n",
       "      <th>600</th>\n",
       "      <td>Ord_4841</td>\n",
       "      <td>Prod_6</td>\n",
       "      <td>SHP_6752</td>\n",
       "      <td>Cust_1675</td>\n",
       "      <td>208.4700</td>\n",
       "      <td>0.01</td>\n",
       "      <td>29</td>\n",
       "      <td>-125.60</td>\n",
       "      <td>8.74</td>\n",
       "      <td>0.36</td>\n",
       "    </tr>\n",
       "  </tbody>\n",
       "</table>\n",
       "</div>"
      ],
      "text/plain": [
       "        Ord_id  Prod_id   Ship_id    Cust_id      Sales  Discount  \\\n",
       "2535  Ord_1158  Prod_15  SHP_1599   Cust_445   473.8800      0.01   \n",
       "3016   Ord_101   Prod_4   SHP_139    Cust_73  1364.8025      0.07   \n",
       "7444    Ord_46   Prod_6    SHP_60    Cust_33   217.0000      0.01   \n",
       "4032  Ord_1170   Prod_5  SHP_1615   Cust_448   231.2700      0.03   \n",
       "600   Ord_4841   Prod_6  SHP_6752  Cust_1675   208.4700      0.01   \n",
       "\n",
       "      Order_Quantity  Profit  Shipping_Cost  Product_Base_Margin  \n",
       "2535               4 -183.26          30.00                 0.71  \n",
       "3016              29 -183.68           5.00                 0.83  \n",
       "7444              41  -61.21           4.75                 0.36  \n",
       "4032              11   89.29           6.67                 0.49  \n",
       "600               29 -125.60           8.74                 0.36  "
      ]
     },
     "execution_count": 5,
     "metadata": {},
     "output_type": "execute_result"
    }
   ],
   "source": [
    "market_df.sample(5)"
   ]
  },
  {
   "cell_type": "code",
   "execution_count": 6,
   "metadata": {},
   "outputs": [
    {
     "data": {
      "text/html": [
       "<div>\n",
       "<style scoped>\n",
       "    .dataframe tbody tr th:only-of-type {\n",
       "        vertical-align: middle;\n",
       "    }\n",
       "\n",
       "    .dataframe tbody tr th {\n",
       "        vertical-align: top;\n",
       "    }\n",
       "\n",
       "    .dataframe thead th {\n",
       "        text-align: right;\n",
       "    }\n",
       "</style>\n",
       "<table border=\"1\" class=\"dataframe\">\n",
       "  <thead>\n",
       "    <tr style=\"text-align: right;\">\n",
       "      <th></th>\n",
       "      <th>Ord_id</th>\n",
       "      <th>Prod_id</th>\n",
       "      <th>Ship_id</th>\n",
       "      <th>Cust_id</th>\n",
       "      <th>Sales</th>\n",
       "      <th>Discount</th>\n",
       "      <th>Order_Quantity</th>\n",
       "      <th>Profit</th>\n",
       "      <th>Shipping_Cost</th>\n",
       "      <th>Product_Base_Margin</th>\n",
       "    </tr>\n",
       "  </thead>\n",
       "  <tbody>\n",
       "    <tr>\n",
       "      <th>0</th>\n",
       "      <td>Ord_5446</td>\n",
       "      <td>Prod_16</td>\n",
       "      <td>SHP_7609</td>\n",
       "      <td>Cust_1818</td>\n",
       "      <td>136.8100</td>\n",
       "      <td>0.01</td>\n",
       "      <td>23</td>\n",
       "      <td>-30.51</td>\n",
       "      <td>3.60</td>\n",
       "      <td>0.56</td>\n",
       "    </tr>\n",
       "    <tr>\n",
       "      <th>1</th>\n",
       "      <td>Ord_5406</td>\n",
       "      <td>Prod_13</td>\n",
       "      <td>SHP_7549</td>\n",
       "      <td>Cust_1818</td>\n",
       "      <td>42.2700</td>\n",
       "      <td>0.01</td>\n",
       "      <td>13</td>\n",
       "      <td>4.56</td>\n",
       "      <td>0.93</td>\n",
       "      <td>0.54</td>\n",
       "    </tr>\n",
       "    <tr>\n",
       "      <th>2</th>\n",
       "      <td>Ord_5446</td>\n",
       "      <td>Prod_4</td>\n",
       "      <td>SHP_7610</td>\n",
       "      <td>Cust_1818</td>\n",
       "      <td>4701.6900</td>\n",
       "      <td>0.00</td>\n",
       "      <td>26</td>\n",
       "      <td>1148.90</td>\n",
       "      <td>2.50</td>\n",
       "      <td>0.59</td>\n",
       "    </tr>\n",
       "    <tr>\n",
       "      <th>3</th>\n",
       "      <td>Ord_5456</td>\n",
       "      <td>Prod_6</td>\n",
       "      <td>SHP_7625</td>\n",
       "      <td>Cust_1818</td>\n",
       "      <td>2337.8900</td>\n",
       "      <td>0.09</td>\n",
       "      <td>43</td>\n",
       "      <td>729.34</td>\n",
       "      <td>14.30</td>\n",
       "      <td>0.37</td>\n",
       "    </tr>\n",
       "    <tr>\n",
       "      <th>4</th>\n",
       "      <td>Ord_5485</td>\n",
       "      <td>Prod_17</td>\n",
       "      <td>SHP_7664</td>\n",
       "      <td>Cust_1818</td>\n",
       "      <td>4233.1500</td>\n",
       "      <td>0.08</td>\n",
       "      <td>35</td>\n",
       "      <td>1219.87</td>\n",
       "      <td>26.30</td>\n",
       "      <td>0.38</td>\n",
       "    </tr>\n",
       "    <tr>\n",
       "      <th>5</th>\n",
       "      <td>Ord_5446</td>\n",
       "      <td>Prod_6</td>\n",
       "      <td>SHP_7608</td>\n",
       "      <td>Cust_1818</td>\n",
       "      <td>164.0200</td>\n",
       "      <td>0.03</td>\n",
       "      <td>23</td>\n",
       "      <td>-47.64</td>\n",
       "      <td>6.15</td>\n",
       "      <td>0.37</td>\n",
       "    </tr>\n",
       "    <tr>\n",
       "      <th>6</th>\n",
       "      <td>Ord_31</td>\n",
       "      <td>Prod_12</td>\n",
       "      <td>SHP_41</td>\n",
       "      <td>Cust_26</td>\n",
       "      <td>14.7600</td>\n",
       "      <td>0.01</td>\n",
       "      <td>5</td>\n",
       "      <td>1.32</td>\n",
       "      <td>0.50</td>\n",
       "      <td>0.36</td>\n",
       "    </tr>\n",
       "    <tr>\n",
       "      <th>7</th>\n",
       "      <td>Ord_4725</td>\n",
       "      <td>Prod_4</td>\n",
       "      <td>SHP_6593</td>\n",
       "      <td>Cust_1641</td>\n",
       "      <td>3410.1575</td>\n",
       "      <td>0.10</td>\n",
       "      <td>48</td>\n",
       "      <td>1137.91</td>\n",
       "      <td>0.99</td>\n",
       "      <td>0.55</td>\n",
       "    </tr>\n",
       "    <tr>\n",
       "      <th>8</th>\n",
       "      <td>Ord_4725</td>\n",
       "      <td>Prod_13</td>\n",
       "      <td>SHP_6593</td>\n",
       "      <td>Cust_1641</td>\n",
       "      <td>162.0000</td>\n",
       "      <td>0.01</td>\n",
       "      <td>33</td>\n",
       "      <td>45.84</td>\n",
       "      <td>0.71</td>\n",
       "      <td>0.52</td>\n",
       "    </tr>\n",
       "    <tr>\n",
       "      <th>9</th>\n",
       "      <td>Ord_4725</td>\n",
       "      <td>Prod_6</td>\n",
       "      <td>SHP_6593</td>\n",
       "      <td>Cust_1641</td>\n",
       "      <td>57.2200</td>\n",
       "      <td>0.07</td>\n",
       "      <td>8</td>\n",
       "      <td>-27.72</td>\n",
       "      <td>6.60</td>\n",
       "      <td>0.37</td>\n",
       "    </tr>\n",
       "  </tbody>\n",
       "</table>\n",
       "</div>"
      ],
      "text/plain": [
       "     Ord_id  Prod_id   Ship_id    Cust_id      Sales  Discount  \\\n",
       "0  Ord_5446  Prod_16  SHP_7609  Cust_1818   136.8100      0.01   \n",
       "1  Ord_5406  Prod_13  SHP_7549  Cust_1818    42.2700      0.01   \n",
       "2  Ord_5446   Prod_4  SHP_7610  Cust_1818  4701.6900      0.00   \n",
       "3  Ord_5456   Prod_6  SHP_7625  Cust_1818  2337.8900      0.09   \n",
       "4  Ord_5485  Prod_17  SHP_7664  Cust_1818  4233.1500      0.08   \n",
       "5  Ord_5446   Prod_6  SHP_7608  Cust_1818   164.0200      0.03   \n",
       "6    Ord_31  Prod_12    SHP_41    Cust_26    14.7600      0.01   \n",
       "7  Ord_4725   Prod_4  SHP_6593  Cust_1641  3410.1575      0.10   \n",
       "8  Ord_4725  Prod_13  SHP_6593  Cust_1641   162.0000      0.01   \n",
       "9  Ord_4725   Prod_6  SHP_6593  Cust_1641    57.2200      0.07   \n",
       "\n",
       "   Order_Quantity   Profit  Shipping_Cost  Product_Base_Margin  \n",
       "0              23   -30.51           3.60                 0.56  \n",
       "1              13     4.56           0.93                 0.54  \n",
       "2              26  1148.90           2.50                 0.59  \n",
       "3              43   729.34          14.30                 0.37  \n",
       "4              35  1219.87          26.30                 0.38  \n",
       "5              23   -47.64           6.15                 0.37  \n",
       "6               5     1.32           0.50                 0.36  \n",
       "7              48  1137.91           0.99                 0.55  \n",
       "8              33    45.84           0.71                 0.52  \n",
       "9               8   -27.72           6.60                 0.37  "
      ]
     },
     "execution_count": 6,
     "metadata": {},
     "output_type": "execute_result"
    }
   ],
   "source": [
    "market_df.head(10)"
   ]
  },
  {
   "cell_type": "code",
   "execution_count": 8,
   "metadata": {},
   "outputs": [
    {
     "data": {
      "text/html": [
       "<div>\n",
       "<style scoped>\n",
       "    .dataframe tbody tr th:only-of-type {\n",
       "        vertical-align: middle;\n",
       "    }\n",
       "\n",
       "    .dataframe tbody tr th {\n",
       "        vertical-align: top;\n",
       "    }\n",
       "\n",
       "    .dataframe thead th {\n",
       "        text-align: right;\n",
       "    }\n",
       "</style>\n",
       "<table border=\"1\" class=\"dataframe\">\n",
       "  <thead>\n",
       "    <tr style=\"text-align: right;\">\n",
       "      <th></th>\n",
       "      <th>Ord_id</th>\n",
       "      <th>Prod_id</th>\n",
       "      <th>Ship_id</th>\n",
       "      <th>Cust_id</th>\n",
       "      <th>Sales</th>\n",
       "      <th>Discount</th>\n",
       "      <th>Order_Quantity</th>\n",
       "      <th>Profit</th>\n",
       "      <th>Shipping_Cost</th>\n",
       "      <th>Product_Base_Margin</th>\n",
       "    </tr>\n",
       "  </thead>\n",
       "  <tbody>\n",
       "    <tr>\n",
       "      <th>0</th>\n",
       "      <td>Ord_5446</td>\n",
       "      <td>Prod_16</td>\n",
       "      <td>SHP_7609</td>\n",
       "      <td>Cust_1818</td>\n",
       "      <td>136.8100</td>\n",
       "      <td>0.01</td>\n",
       "      <td>23</td>\n",
       "      <td>-30.51</td>\n",
       "      <td>3.60</td>\n",
       "      <td>0.56</td>\n",
       "    </tr>\n",
       "    <tr>\n",
       "      <th>1</th>\n",
       "      <td>Ord_5406</td>\n",
       "      <td>Prod_13</td>\n",
       "      <td>SHP_7549</td>\n",
       "      <td>Cust_1818</td>\n",
       "      <td>42.2700</td>\n",
       "      <td>0.01</td>\n",
       "      <td>13</td>\n",
       "      <td>4.56</td>\n",
       "      <td>0.93</td>\n",
       "      <td>0.54</td>\n",
       "    </tr>\n",
       "    <tr>\n",
       "      <th>2</th>\n",
       "      <td>Ord_5446</td>\n",
       "      <td>Prod_4</td>\n",
       "      <td>SHP_7610</td>\n",
       "      <td>Cust_1818</td>\n",
       "      <td>4701.6900</td>\n",
       "      <td>0.00</td>\n",
       "      <td>26</td>\n",
       "      <td>1148.90</td>\n",
       "      <td>2.50</td>\n",
       "      <td>0.59</td>\n",
       "    </tr>\n",
       "    <tr>\n",
       "      <th>3</th>\n",
       "      <td>Ord_5456</td>\n",
       "      <td>Prod_6</td>\n",
       "      <td>SHP_7625</td>\n",
       "      <td>Cust_1818</td>\n",
       "      <td>2337.8900</td>\n",
       "      <td>0.09</td>\n",
       "      <td>43</td>\n",
       "      <td>729.34</td>\n",
       "      <td>14.30</td>\n",
       "      <td>0.37</td>\n",
       "    </tr>\n",
       "    <tr>\n",
       "      <th>4</th>\n",
       "      <td>Ord_5485</td>\n",
       "      <td>Prod_17</td>\n",
       "      <td>SHP_7664</td>\n",
       "      <td>Cust_1818</td>\n",
       "      <td>4233.1500</td>\n",
       "      <td>0.08</td>\n",
       "      <td>35</td>\n",
       "      <td>1219.87</td>\n",
       "      <td>26.30</td>\n",
       "      <td>0.38</td>\n",
       "    </tr>\n",
       "    <tr>\n",
       "      <th>5</th>\n",
       "      <td>Ord_5446</td>\n",
       "      <td>Prod_6</td>\n",
       "      <td>SHP_7608</td>\n",
       "      <td>Cust_1818</td>\n",
       "      <td>164.0200</td>\n",
       "      <td>0.03</td>\n",
       "      <td>23</td>\n",
       "      <td>-47.64</td>\n",
       "      <td>6.15</td>\n",
       "      <td>0.37</td>\n",
       "    </tr>\n",
       "    <tr>\n",
       "      <th>7</th>\n",
       "      <td>Ord_4725</td>\n",
       "      <td>Prod_4</td>\n",
       "      <td>SHP_6593</td>\n",
       "      <td>Cust_1641</td>\n",
       "      <td>3410.1575</td>\n",
       "      <td>0.10</td>\n",
       "      <td>48</td>\n",
       "      <td>1137.91</td>\n",
       "      <td>0.99</td>\n",
       "      <td>0.55</td>\n",
       "    </tr>\n",
       "    <tr>\n",
       "      <th>8</th>\n",
       "      <td>Ord_4725</td>\n",
       "      <td>Prod_13</td>\n",
       "      <td>SHP_6593</td>\n",
       "      <td>Cust_1641</td>\n",
       "      <td>162.0000</td>\n",
       "      <td>0.01</td>\n",
       "      <td>33</td>\n",
       "      <td>45.84</td>\n",
       "      <td>0.71</td>\n",
       "      <td>0.52</td>\n",
       "    </tr>\n",
       "    <tr>\n",
       "      <th>9</th>\n",
       "      <td>Ord_4725</td>\n",
       "      <td>Prod_6</td>\n",
       "      <td>SHP_6593</td>\n",
       "      <td>Cust_1641</td>\n",
       "      <td>57.2200</td>\n",
       "      <td>0.07</td>\n",
       "      <td>8</td>\n",
       "      <td>-27.72</td>\n",
       "      <td>6.60</td>\n",
       "      <td>0.37</td>\n",
       "    </tr>\n",
       "    <tr>\n",
       "      <th>10</th>\n",
       "      <td>Ord_4743</td>\n",
       "      <td>Prod_2</td>\n",
       "      <td>SHP_6615</td>\n",
       "      <td>Cust_1641</td>\n",
       "      <td>4072.0100</td>\n",
       "      <td>0.01</td>\n",
       "      <td>43</td>\n",
       "      <td>1675.98</td>\n",
       "      <td>0.99</td>\n",
       "      <td>0.56</td>\n",
       "    </tr>\n",
       "  </tbody>\n",
       "</table>\n",
       "</div>"
      ],
      "text/plain": [
       "      Ord_id  Prod_id   Ship_id    Cust_id      Sales  Discount  \\\n",
       "0   Ord_5446  Prod_16  SHP_7609  Cust_1818   136.8100      0.01   \n",
       "1   Ord_5406  Prod_13  SHP_7549  Cust_1818    42.2700      0.01   \n",
       "2   Ord_5446   Prod_4  SHP_7610  Cust_1818  4701.6900      0.00   \n",
       "3   Ord_5456   Prod_6  SHP_7625  Cust_1818  2337.8900      0.09   \n",
       "4   Ord_5485  Prod_17  SHP_7664  Cust_1818  4233.1500      0.08   \n",
       "5   Ord_5446   Prod_6  SHP_7608  Cust_1818   164.0200      0.03   \n",
       "7   Ord_4725   Prod_4  SHP_6593  Cust_1641  3410.1575      0.10   \n",
       "8   Ord_4725  Prod_13  SHP_6593  Cust_1641   162.0000      0.01   \n",
       "9   Ord_4725   Prod_6  SHP_6593  Cust_1641    57.2200      0.07   \n",
       "10  Ord_4743   Prod_2  SHP_6615  Cust_1641  4072.0100      0.01   \n",
       "\n",
       "    Order_Quantity   Profit  Shipping_Cost  Product_Base_Margin  \n",
       "0               23   -30.51           3.60                 0.56  \n",
       "1               13     4.56           0.93                 0.54  \n",
       "2               26  1148.90           2.50                 0.59  \n",
       "3               43   729.34          14.30                 0.37  \n",
       "4               35  1219.87          26.30                 0.38  \n",
       "5               23   -47.64           6.15                 0.37  \n",
       "7               48  1137.91           0.99                 0.55  \n",
       "8               33    45.84           0.71                 0.52  \n",
       "9                8   -27.72           6.60                 0.37  \n",
       "10              43  1675.98           0.99                 0.56  "
      ]
     },
     "execution_count": 8,
     "metadata": {},
     "output_type": "execute_result"
    }
   ],
   "source": [
    "cust_lst=['Cust_1818','Cust_1641']\n",
    "market_df[market_df['Cust_id'].isin(cust_lst)]"
   ]
  },
  {
   "cell_type": "code",
   "execution_count": 9,
   "metadata": {},
   "outputs": [
    {
     "data": {
      "text/html": [
       "<div>\n",
       "<style scoped>\n",
       "    .dataframe tbody tr th:only-of-type {\n",
       "        vertical-align: middle;\n",
       "    }\n",
       "\n",
       "    .dataframe tbody tr th {\n",
       "        vertical-align: top;\n",
       "    }\n",
       "\n",
       "    .dataframe thead th {\n",
       "        text-align: right;\n",
       "    }\n",
       "</style>\n",
       "<table border=\"1\" class=\"dataframe\">\n",
       "  <thead>\n",
       "    <tr style=\"text-align: right;\">\n",
       "      <th></th>\n",
       "      <th>Sales</th>\n",
       "      <th>Discount</th>\n",
       "      <th>Order_Quantity</th>\n",
       "      <th>Profit</th>\n",
       "      <th>Shipping_Cost</th>\n",
       "      <th>Product_Base_Margin</th>\n",
       "    </tr>\n",
       "  </thead>\n",
       "  <tbody>\n",
       "    <tr>\n",
       "      <th>0</th>\n",
       "      <td>136.8100</td>\n",
       "      <td>0.01</td>\n",
       "      <td>23</td>\n",
       "      <td>-30.51</td>\n",
       "      <td>3.60</td>\n",
       "      <td>0.56</td>\n",
       "    </tr>\n",
       "    <tr>\n",
       "      <th>1</th>\n",
       "      <td>42.2700</td>\n",
       "      <td>0.01</td>\n",
       "      <td>13</td>\n",
       "      <td>4.56</td>\n",
       "      <td>0.93</td>\n",
       "      <td>0.54</td>\n",
       "    </tr>\n",
       "    <tr>\n",
       "      <th>2</th>\n",
       "      <td>4701.6900</td>\n",
       "      <td>0.00</td>\n",
       "      <td>26</td>\n",
       "      <td>1148.90</td>\n",
       "      <td>2.50</td>\n",
       "      <td>0.59</td>\n",
       "    </tr>\n",
       "    <tr>\n",
       "      <th>3</th>\n",
       "      <td>2337.8900</td>\n",
       "      <td>0.09</td>\n",
       "      <td>43</td>\n",
       "      <td>729.34</td>\n",
       "      <td>14.30</td>\n",
       "      <td>0.37</td>\n",
       "    </tr>\n",
       "    <tr>\n",
       "      <th>4</th>\n",
       "      <td>4233.1500</td>\n",
       "      <td>0.08</td>\n",
       "      <td>35</td>\n",
       "      <td>1219.87</td>\n",
       "      <td>26.30</td>\n",
       "      <td>0.38</td>\n",
       "    </tr>\n",
       "    <tr>\n",
       "      <th>...</th>\n",
       "      <td>...</td>\n",
       "      <td>...</td>\n",
       "      <td>...</td>\n",
       "      <td>...</td>\n",
       "      <td>...</td>\n",
       "      <td>...</td>\n",
       "    </tr>\n",
       "    <tr>\n",
       "      <th>8394</th>\n",
       "      <td>2841.4395</td>\n",
       "      <td>0.08</td>\n",
       "      <td>28</td>\n",
       "      <td>374.63</td>\n",
       "      <td>7.69</td>\n",
       "      <td>0.59</td>\n",
       "    </tr>\n",
       "    <tr>\n",
       "      <th>8395</th>\n",
       "      <td>127.1600</td>\n",
       "      <td>0.10</td>\n",
       "      <td>20</td>\n",
       "      <td>-74.03</td>\n",
       "      <td>6.92</td>\n",
       "      <td>0.37</td>\n",
       "    </tr>\n",
       "    <tr>\n",
       "      <th>8396</th>\n",
       "      <td>243.0500</td>\n",
       "      <td>0.02</td>\n",
       "      <td>39</td>\n",
       "      <td>-70.85</td>\n",
       "      <td>5.35</td>\n",
       "      <td>0.40</td>\n",
       "    </tr>\n",
       "    <tr>\n",
       "      <th>8397</th>\n",
       "      <td>3872.8700</td>\n",
       "      <td>0.03</td>\n",
       "      <td>23</td>\n",
       "      <td>565.34</td>\n",
       "      <td>30.00</td>\n",
       "      <td>0.62</td>\n",
       "    </tr>\n",
       "    <tr>\n",
       "      <th>8398</th>\n",
       "      <td>603.6900</td>\n",
       "      <td>0.00</td>\n",
       "      <td>47</td>\n",
       "      <td>131.39</td>\n",
       "      <td>4.86</td>\n",
       "      <td>0.38</td>\n",
       "    </tr>\n",
       "  </tbody>\n",
       "</table>\n",
       "<p>8399 rows × 6 columns</p>\n",
       "</div>"
      ],
      "text/plain": [
       "          Sales  Discount  Order_Quantity   Profit  Shipping_Cost  \\\n",
       "0      136.8100      0.01              23   -30.51           3.60   \n",
       "1       42.2700      0.01              13     4.56           0.93   \n",
       "2     4701.6900      0.00              26  1148.90           2.50   \n",
       "3     2337.8900      0.09              43   729.34          14.30   \n",
       "4     4233.1500      0.08              35  1219.87          26.30   \n",
       "...         ...       ...             ...      ...            ...   \n",
       "8394  2841.4395      0.08              28   374.63           7.69   \n",
       "8395   127.1600      0.10              20   -74.03           6.92   \n",
       "8396   243.0500      0.02              39   -70.85           5.35   \n",
       "8397  3872.8700      0.03              23   565.34          30.00   \n",
       "8398   603.6900      0.00              47   131.39           4.86   \n",
       "\n",
       "      Product_Base_Margin  \n",
       "0                    0.56  \n",
       "1                    0.54  \n",
       "2                    0.59  \n",
       "3                    0.37  \n",
       "4                    0.38  \n",
       "...                   ...  \n",
       "8394                 0.59  \n",
       "8395                 0.37  \n",
       "8396                 0.40  \n",
       "8397                 0.62  \n",
       "8398                 0.38  \n",
       "\n",
       "[8399 rows x 6 columns]"
      ]
     },
     "execution_count": 9,
     "metadata": {},
     "output_type": "execute_result"
    }
   ],
   "source": [
    "market_df.select_dtypes(exclude=object)"
   ]
  },
  {
   "cell_type": "code",
   "execution_count": 20,
   "metadata": {},
   "outputs": [
    {
     "data": {
      "text/html": [
       "<div>\n",
       "<style scoped>\n",
       "    .dataframe tbody tr th:only-of-type {\n",
       "        vertical-align: middle;\n",
       "    }\n",
       "\n",
       "    .dataframe tbody tr th {\n",
       "        vertical-align: top;\n",
       "    }\n",
       "\n",
       "    .dataframe thead th {\n",
       "        text-align: right;\n",
       "    }\n",
       "</style>\n",
       "<table border=\"1\" class=\"dataframe\">\n",
       "  <thead>\n",
       "    <tr style=\"text-align: right;\">\n",
       "      <th></th>\n",
       "      <th>Ord_id</th>\n",
       "      <th>Prod_id</th>\n",
       "      <th>Ship_id</th>\n",
       "      <th>Cust_id</th>\n",
       "      <th>Sales</th>\n",
       "      <th>Discount</th>\n",
       "      <th>Order_Quantity</th>\n",
       "      <th>Profit</th>\n",
       "      <th>Shipping_Cost</th>\n",
       "      <th>Product_Base_Margin</th>\n",
       "    </tr>\n",
       "  </thead>\n",
       "  <tbody>\n",
       "    <tr>\n",
       "      <th>17</th>\n",
       "      <td>Ord_4471</td>\n",
       "      <td>Prod_15</td>\n",
       "      <td>SHP_6228</td>\n",
       "      <td>Cust_1521</td>\n",
       "      <td>13255.93</td>\n",
       "      <td>0.02</td>\n",
       "      <td>25</td>\n",
       "      <td>4089.27</td>\n",
       "      <td>26.00</td>\n",
       "      <td>0.60</td>\n",
       "    </tr>\n",
       "    <tr>\n",
       "      <th>84</th>\n",
       "      <td>Ord_5232</td>\n",
       "      <td>Prod_17</td>\n",
       "      <td>SHP_7306</td>\n",
       "      <td>Cust_1758</td>\n",
       "      <td>21366.51</td>\n",
       "      <td>0.00</td>\n",
       "      <td>3</td>\n",
       "      <td>-11984.40</td>\n",
       "      <td>24.49</td>\n",
       "      <td>0.39</td>\n",
       "    </tr>\n",
       "    <tr>\n",
       "      <th>121</th>\n",
       "      <td>Ord_5423</td>\n",
       "      <td>Prod_17</td>\n",
       "      <td>SHP_7577</td>\n",
       "      <td>Cust_1800</td>\n",
       "      <td>13070.20</td>\n",
       "      <td>0.07</td>\n",
       "      <td>4</td>\n",
       "      <td>-6923.60</td>\n",
       "      <td>8.73</td>\n",
       "      <td>0.57</td>\n",
       "    </tr>\n",
       "    <tr>\n",
       "      <th>133</th>\n",
       "      <td>Ord_2432</td>\n",
       "      <td>Prod_3</td>\n",
       "      <td>SHP_3338</td>\n",
       "      <td>Cust_933</td>\n",
       "      <td>15337.58</td>\n",
       "      <td>0.10</td>\n",
       "      <td>30</td>\n",
       "      <td>6670.41</td>\n",
       "      <td>19.99</td>\n",
       "      <td>0.37</td>\n",
       "    </tr>\n",
       "    <tr>\n",
       "      <th>165</th>\n",
       "      <td>Ord_4702</td>\n",
       "      <td>Prod_3</td>\n",
       "      <td>SHP_6560</td>\n",
       "      <td>Cust_1603</td>\n",
       "      <td>11823.52</td>\n",
       "      <td>0.10</td>\n",
       "      <td>34</td>\n",
       "      <td>4592.74</td>\n",
       "      <td>19.99</td>\n",
       "      <td>0.40</td>\n",
       "    </tr>\n",
       "    <tr>\n",
       "      <th>...</th>\n",
       "      <td>...</td>\n",
       "      <td>...</td>\n",
       "      <td>...</td>\n",
       "      <td>...</td>\n",
       "      <td>...</td>\n",
       "      <td>...</td>\n",
       "      <td>...</td>\n",
       "      <td>...</td>\n",
       "      <td>...</td>\n",
       "      <td>...</td>\n",
       "    </tr>\n",
       "    <tr>\n",
       "      <th>8217</th>\n",
       "      <td>Ord_3359</td>\n",
       "      <td>Prod_10</td>\n",
       "      <td>SHP_7245</td>\n",
       "      <td>Cust_1762</td>\n",
       "      <td>28389.14</td>\n",
       "      <td>0.07</td>\n",
       "      <td>33</td>\n",
       "      <td>7132.18</td>\n",
       "      <td>44.55</td>\n",
       "      <td>0.62</td>\n",
       "    </tr>\n",
       "    <tr>\n",
       "      <th>8283</th>\n",
       "      <td>Ord_1741</td>\n",
       "      <td>Prod_11</td>\n",
       "      <td>SHP_2411</td>\n",
       "      <td>Cust_595</td>\n",
       "      <td>15168.82</td>\n",
       "      <td>0.02</td>\n",
       "      <td>26</td>\n",
       "      <td>-1096.78</td>\n",
       "      <td>147.12</td>\n",
       "      <td>0.80</td>\n",
       "    </tr>\n",
       "    <tr>\n",
       "      <th>8292</th>\n",
       "      <td>Ord_1765</td>\n",
       "      <td>Prod_14</td>\n",
       "      <td>SHP_2446</td>\n",
       "      <td>Cust_595</td>\n",
       "      <td>14647.26</td>\n",
       "      <td>0.07</td>\n",
       "      <td>25</td>\n",
       "      <td>5485.15</td>\n",
       "      <td>24.49</td>\n",
       "      <td>0.37</td>\n",
       "    </tr>\n",
       "    <tr>\n",
       "      <th>8332</th>\n",
       "      <td>Ord_2101</td>\n",
       "      <td>Prod_11</td>\n",
       "      <td>SHP_2875</td>\n",
       "      <td>Cust_790</td>\n",
       "      <td>10714.78</td>\n",
       "      <td>0.00</td>\n",
       "      <td>41</td>\n",
       "      <td>-627.64</td>\n",
       "      <td>66.67</td>\n",
       "      <td>0.65</td>\n",
       "    </tr>\n",
       "    <tr>\n",
       "      <th>8366</th>\n",
       "      <td>Ord_3593</td>\n",
       "      <td>Prod_3</td>\n",
       "      <td>SHP_4974</td>\n",
       "      <td>Cust_1274</td>\n",
       "      <td>12073.06</td>\n",
       "      <td>0.03</td>\n",
       "      <td>39</td>\n",
       "      <td>5081.87</td>\n",
       "      <td>19.99</td>\n",
       "      <td>0.38</td>\n",
       "    </tr>\n",
       "  </tbody>\n",
       "</table>\n",
       "<p>293 rows × 10 columns</p>\n",
       "</div>"
      ],
      "text/plain": [
       "        Ord_id  Prod_id   Ship_id    Cust_id     Sales  Discount  \\\n",
       "17    Ord_4471  Prod_15  SHP_6228  Cust_1521  13255.93      0.02   \n",
       "84    Ord_5232  Prod_17  SHP_7306  Cust_1758  21366.51      0.00   \n",
       "121   Ord_5423  Prod_17  SHP_7577  Cust_1800  13070.20      0.07   \n",
       "133   Ord_2432   Prod_3  SHP_3338   Cust_933  15337.58      0.10   \n",
       "165   Ord_4702   Prod_3  SHP_6560  Cust_1603  11823.52      0.10   \n",
       "...        ...      ...       ...        ...       ...       ...   \n",
       "8217  Ord_3359  Prod_10  SHP_7245  Cust_1762  28389.14      0.07   \n",
       "8283  Ord_1741  Prod_11  SHP_2411   Cust_595  15168.82      0.02   \n",
       "8292  Ord_1765  Prod_14  SHP_2446   Cust_595  14647.26      0.07   \n",
       "8332  Ord_2101  Prod_11  SHP_2875   Cust_790  10714.78      0.00   \n",
       "8366  Ord_3593   Prod_3  SHP_4974  Cust_1274  12073.06      0.03   \n",
       "\n",
       "      Order_Quantity    Profit  Shipping_Cost  Product_Base_Margin  \n",
       "17                25   4089.27          26.00                 0.60  \n",
       "84                 3 -11984.40          24.49                 0.39  \n",
       "121                4  -6923.60           8.73                 0.57  \n",
       "133               30   6670.41          19.99                 0.37  \n",
       "165               34   4592.74          19.99                 0.40  \n",
       "...              ...       ...            ...                  ...  \n",
       "8217              33   7132.18          44.55                 0.62  \n",
       "8283              26  -1096.78         147.12                 0.80  \n",
       "8292              25   5485.15          24.49                 0.37  \n",
       "8332              41   -627.64          66.67                 0.65  \n",
       "8366              39   5081.87          19.99                 0.38  \n",
       "\n",
       "[293 rows x 10 columns]"
      ]
     },
     "execution_count": 20,
     "metadata": {},
     "output_type": "execute_result"
    }
   ],
   "source": [
    "market_df[(market_df['Sales']>=10000) | (market_df['Profit']>4000)]"
   ]
  },
  {
   "cell_type": "code",
   "execution_count": 33,
   "metadata": {},
   "outputs": [
    {
     "data": {
      "text/plain": [
       "Ord_id                 0\n",
       "Prod_id                0\n",
       "Ship_id                0\n",
       "Cust_id                0\n",
       "Sales                  0\n",
       "Discount               0\n",
       "Order_Quantity         0\n",
       "Profit                 0\n",
       "Shipping_Cost          0\n",
       "Product_Base_Margin    0\n",
       "dtype: int64"
      ]
     },
     "execution_count": 33,
     "metadata": {},
     "output_type": "execute_result"
    }
   ],
   "source": [
    "100*market_df.isnull().sum()"
   ]
  },
  {
   "cell_type": "code",
   "execution_count": 32,
   "metadata": {},
   "outputs": [],
   "source": [
    "market_df.Product_Base_Margin=market_df.Product_Base_Margin.fillna(value=(market_df.Product_Base_Margin.mean()))"
   ]
  },
  {
   "cell_type": "code",
   "execution_count": 34,
   "metadata": {},
   "outputs": [],
   "source": [
    "cust_df=pd.read_csv('cust_dimen.csv')\n",
    "orders_df=pd.read_csv('orders_dimen.csv')\n",
    "prod_df=pd.read_csv('prod_dimen.csv')\n",
    "ship_df=pd.read_csv('shipping_dimen.csv')"
   ]
  },
  {
   "cell_type": "code",
   "execution_count": 35,
   "metadata": {},
   "outputs": [
    {
     "name": "stdout",
     "output_type": "stream",
     "text": [
      "Index(['Ord_id', 'Prod_id', 'Ship_id', 'Cust_id', 'Sales', 'Discount',\n",
      "       'Order_Quantity', 'Profit', 'Shipping_Cost', 'Product_Base_Margin'],\n",
      "      dtype='object')\n",
      "Index(['Customer_Name', 'Province', 'Region', 'Customer_Segment', 'Cust_id'], dtype='object')\n"
     ]
    }
   ],
   "source": [
    "print(market_df.columns)\n",
    "print(cust_df.columns)"
   ]
  },
  {
   "cell_type": "code",
   "execution_count": null,
   "metadata": {},
   "outputs": [],
   "source": [
    "market_df"
   ]
  },
  {
   "cell_type": "code",
   "execution_count": 37,
   "metadata": {},
   "outputs": [],
   "source": [
    "m1=pd.merge(market_df,cust_df,how='inner',on='Cust_id')\n",
    "m2=pd.merge(m1,orders_df,how='inner',on='Ord_id')\n",
    "m3=pd.merge(m2,prod_df,how='inner',on='Prod_id')\n",
    "master_df=pd.merge(m3,ship_df,how='inner',on='Ship_id')"
   ]
  },
  {
   "cell_type": "code",
   "execution_count": 38,
   "metadata": {},
   "outputs": [
    {
     "data": {
      "text/html": [
       "<div>\n",
       "<style scoped>\n",
       "    .dataframe tbody tr th:only-of-type {\n",
       "        vertical-align: middle;\n",
       "    }\n",
       "\n",
       "    .dataframe tbody tr th {\n",
       "        vertical-align: top;\n",
       "    }\n",
       "\n",
       "    .dataframe thead th {\n",
       "        text-align: right;\n",
       "    }\n",
       "</style>\n",
       "<table border=\"1\" class=\"dataframe\">\n",
       "  <thead>\n",
       "    <tr style=\"text-align: right;\">\n",
       "      <th></th>\n",
       "      <th>Ord_id</th>\n",
       "      <th>Prod_id</th>\n",
       "      <th>Ship_id</th>\n",
       "      <th>Cust_id</th>\n",
       "      <th>Sales</th>\n",
       "      <th>Discount</th>\n",
       "      <th>Order_Quantity</th>\n",
       "      <th>Profit</th>\n",
       "      <th>Shipping_Cost</th>\n",
       "      <th>Product_Base_Margin</th>\n",
       "      <th>...</th>\n",
       "      <th>Region</th>\n",
       "      <th>Customer_Segment</th>\n",
       "      <th>Order_ID_x</th>\n",
       "      <th>Order_Date</th>\n",
       "      <th>Order_Priority</th>\n",
       "      <th>Product_Category</th>\n",
       "      <th>Product_Sub_Category</th>\n",
       "      <th>Order_ID_y</th>\n",
       "      <th>Ship_Mode</th>\n",
       "      <th>Ship_Date</th>\n",
       "    </tr>\n",
       "  </thead>\n",
       "  <tbody>\n",
       "    <tr>\n",
       "      <th>0</th>\n",
       "      <td>Ord_5446</td>\n",
       "      <td>Prod_16</td>\n",
       "      <td>SHP_7609</td>\n",
       "      <td>Cust_1818</td>\n",
       "      <td>136.81</td>\n",
       "      <td>0.01</td>\n",
       "      <td>23</td>\n",
       "      <td>-30.51</td>\n",
       "      <td>3.60</td>\n",
       "      <td>0.56</td>\n",
       "      <td>...</td>\n",
       "      <td>WEST</td>\n",
       "      <td>CORPORATE</td>\n",
       "      <td>36262</td>\n",
       "      <td>27-07-2010</td>\n",
       "      <td>NOT SPECIFIED</td>\n",
       "      <td>OFFICE SUPPLIES</td>\n",
       "      <td>SCISSORS, RULERS AND TRIMMERS</td>\n",
       "      <td>36262</td>\n",
       "      <td>REGULAR AIR</td>\n",
       "      <td>28-07-2010</td>\n",
       "    </tr>\n",
       "    <tr>\n",
       "      <th>1</th>\n",
       "      <td>Ord_2978</td>\n",
       "      <td>Prod_16</td>\n",
       "      <td>SHP_4112</td>\n",
       "      <td>Cust_1088</td>\n",
       "      <td>305.05</td>\n",
       "      <td>0.04</td>\n",
       "      <td>27</td>\n",
       "      <td>23.12</td>\n",
       "      <td>3.37</td>\n",
       "      <td>0.57</td>\n",
       "      <td>...</td>\n",
       "      <td>ONTARIO</td>\n",
       "      <td>HOME OFFICE</td>\n",
       "      <td>37863</td>\n",
       "      <td>24-02-2011</td>\n",
       "      <td>HIGH</td>\n",
       "      <td>OFFICE SUPPLIES</td>\n",
       "      <td>SCISSORS, RULERS AND TRIMMERS</td>\n",
       "      <td>37863</td>\n",
       "      <td>REGULAR AIR</td>\n",
       "      <td>26-02-2011</td>\n",
       "    </tr>\n",
       "  </tbody>\n",
       "</table>\n",
       "<p>2 rows × 22 columns</p>\n",
       "</div>"
      ],
      "text/plain": [
       "     Ord_id  Prod_id   Ship_id    Cust_id   Sales  Discount  Order_Quantity  \\\n",
       "0  Ord_5446  Prod_16  SHP_7609  Cust_1818  136.81      0.01              23   \n",
       "1  Ord_2978  Prod_16  SHP_4112  Cust_1088  305.05      0.04              27   \n",
       "\n",
       "   Profit  Shipping_Cost  Product_Base_Margin  ...   Region Customer_Segment  \\\n",
       "0  -30.51           3.60                 0.56  ...     WEST        CORPORATE   \n",
       "1   23.12           3.37                 0.57  ...  ONTARIO      HOME OFFICE   \n",
       "\n",
       "  Order_ID_x  Order_Date  Order_Priority Product_Category  \\\n",
       "0      36262  27-07-2010   NOT SPECIFIED  OFFICE SUPPLIES   \n",
       "1      37863  24-02-2011            HIGH  OFFICE SUPPLIES   \n",
       "\n",
       "            Product_Sub_Category Order_ID_y    Ship_Mode   Ship_Date  \n",
       "0  SCISSORS, RULERS AND TRIMMERS      36262  REGULAR AIR  28-07-2010  \n",
       "1  SCISSORS, RULERS AND TRIMMERS      37863  REGULAR AIR  26-02-2011  \n",
       "\n",
       "[2 rows x 22 columns]"
      ]
     },
     "execution_count": 38,
     "metadata": {},
     "output_type": "execute_result"
    }
   ],
   "source": [
    "master_df.head(2)"
   ]
  },
  {
   "cell_type": "code",
   "execution_count": null,
   "metadata": {},
   "outputs": [],
   "source": [
    "master_df[['Order_ID_x','Order_ID_y']].corr()"
   ]
  },
  {
   "cell_type": "code",
   "execution_count": 45,
   "metadata": {},
   "outputs": [],
   "source": [
    "master_df=master_df.drop('Order_ID_x',axis=1)"
   ]
  },
  {
   "cell_type": "code",
   "execution_count": 48,
   "metadata": {},
   "outputs": [],
   "source": [
    "IPL_2018 = pd.DataFrame({'IPL Team': ['CSK', 'SRH', 'KKR', 'RR', 'MI', 'RCB', 'KXIP', 'DD'],'Matches Played': [16, 17, 16, 15, 14, 14, 14, 14],'Matches Won': [11, 10, 9, 7, 6, 6, 6, 5]})\n",
    "\n",
    "IPL_2017 = pd.DataFrame({'IPL Team': ['MI', 'RPS', 'KKR', 'SRH', 'KXIP', 'DD', 'GL', 'RCB'],'Matches Played': [17, 16, 16, 15, 14, 14, 14, 14],'Matches Won': [12, 10, 9, 8, 7, 6, 4, 3]})\n"
   ]
  },
  {
   "cell_type": "code",
   "execution_count": 50,
   "metadata": {},
   "outputs": [
    {
     "data": {
      "text/html": [
       "<div>\n",
       "<style scoped>\n",
       "    .dataframe tbody tr th:only-of-type {\n",
       "        vertical-align: middle;\n",
       "    }\n",
       "\n",
       "    .dataframe tbody tr th {\n",
       "        vertical-align: top;\n",
       "    }\n",
       "\n",
       "    .dataframe thead th {\n",
       "        text-align: right;\n",
       "    }\n",
       "</style>\n",
       "<table border=\"1\" class=\"dataframe\">\n",
       "  <thead>\n",
       "    <tr style=\"text-align: right;\">\n",
       "      <th></th>\n",
       "      <th>IPL Team</th>\n",
       "      <th>Matches Played</th>\n",
       "      <th>Matches Won</th>\n",
       "    </tr>\n",
       "  </thead>\n",
       "  <tbody>\n",
       "    <tr>\n",
       "      <th>0</th>\n",
       "      <td>CSK</td>\n",
       "      <td>16</td>\n",
       "      <td>11</td>\n",
       "    </tr>\n",
       "    <tr>\n",
       "      <th>1</th>\n",
       "      <td>SRH</td>\n",
       "      <td>17</td>\n",
       "      <td>10</td>\n",
       "    </tr>\n",
       "    <tr>\n",
       "      <th>2</th>\n",
       "      <td>KKR</td>\n",
       "      <td>16</td>\n",
       "      <td>9</td>\n",
       "    </tr>\n",
       "    <tr>\n",
       "      <th>3</th>\n",
       "      <td>RR</td>\n",
       "      <td>15</td>\n",
       "      <td>7</td>\n",
       "    </tr>\n",
       "    <tr>\n",
       "      <th>4</th>\n",
       "      <td>MI</td>\n",
       "      <td>14</td>\n",
       "      <td>6</td>\n",
       "    </tr>\n",
       "    <tr>\n",
       "      <th>5</th>\n",
       "      <td>RCB</td>\n",
       "      <td>14</td>\n",
       "      <td>6</td>\n",
       "    </tr>\n",
       "    <tr>\n",
       "      <th>6</th>\n",
       "      <td>KXIP</td>\n",
       "      <td>14</td>\n",
       "      <td>6</td>\n",
       "    </tr>\n",
       "    <tr>\n",
       "      <th>7</th>\n",
       "      <td>DD</td>\n",
       "      <td>14</td>\n",
       "      <td>5</td>\n",
       "    </tr>\n",
       "  </tbody>\n",
       "</table>\n",
       "</div>"
      ],
      "text/plain": [
       "  IPL Team  Matches Played  Matches Won\n",
       "0      CSK              16           11\n",
       "1      SRH              17           10\n",
       "2      KKR              16            9\n",
       "3       RR              15            7\n",
       "4       MI              14            6\n",
       "5      RCB              14            6\n",
       "6     KXIP              14            6\n",
       "7       DD              14            5"
      ]
     },
     "execution_count": 50,
     "metadata": {},
     "output_type": "execute_result"
    }
   ],
   "source": [
    "IPL_2018"
   ]
  },
  {
   "cell_type": "code",
   "execution_count": 49,
   "metadata": {},
   "outputs": [
    {
     "data": {
      "text/html": [
       "<div>\n",
       "<style scoped>\n",
       "    .dataframe tbody tr th:only-of-type {\n",
       "        vertical-align: middle;\n",
       "    }\n",
       "\n",
       "    .dataframe tbody tr th {\n",
       "        vertical-align: top;\n",
       "    }\n",
       "\n",
       "    .dataframe thead th {\n",
       "        text-align: right;\n",
       "    }\n",
       "</style>\n",
       "<table border=\"1\" class=\"dataframe\">\n",
       "  <thead>\n",
       "    <tr style=\"text-align: right;\">\n",
       "      <th></th>\n",
       "      <th>IPL Team</th>\n",
       "      <th>Matches Played</th>\n",
       "      <th>Matches Won</th>\n",
       "    </tr>\n",
       "  </thead>\n",
       "  <tbody>\n",
       "    <tr>\n",
       "      <th>0</th>\n",
       "      <td>MI</td>\n",
       "      <td>17</td>\n",
       "      <td>12</td>\n",
       "    </tr>\n",
       "    <tr>\n",
       "      <th>1</th>\n",
       "      <td>RPS</td>\n",
       "      <td>16</td>\n",
       "      <td>10</td>\n",
       "    </tr>\n",
       "    <tr>\n",
       "      <th>2</th>\n",
       "      <td>KKR</td>\n",
       "      <td>16</td>\n",
       "      <td>9</td>\n",
       "    </tr>\n",
       "    <tr>\n",
       "      <th>3</th>\n",
       "      <td>SRH</td>\n",
       "      <td>15</td>\n",
       "      <td>8</td>\n",
       "    </tr>\n",
       "    <tr>\n",
       "      <th>4</th>\n",
       "      <td>KXIP</td>\n",
       "      <td>14</td>\n",
       "      <td>7</td>\n",
       "    </tr>\n",
       "    <tr>\n",
       "      <th>5</th>\n",
       "      <td>DD</td>\n",
       "      <td>14</td>\n",
       "      <td>6</td>\n",
       "    </tr>\n",
       "    <tr>\n",
       "      <th>6</th>\n",
       "      <td>GL</td>\n",
       "      <td>14</td>\n",
       "      <td>4</td>\n",
       "    </tr>\n",
       "    <tr>\n",
       "      <th>7</th>\n",
       "      <td>RCB</td>\n",
       "      <td>14</td>\n",
       "      <td>3</td>\n",
       "    </tr>\n",
       "  </tbody>\n",
       "</table>\n",
       "</div>"
      ],
      "text/plain": [
       "  IPL Team  Matches Played  Matches Won\n",
       "0       MI              17           12\n",
       "1      RPS              16           10\n",
       "2      KKR              16            9\n",
       "3      SRH              15            8\n",
       "4     KXIP              14            7\n",
       "5       DD              14            6\n",
       "6       GL              14            4\n",
       "7      RCB              14            3"
      ]
     },
     "execution_count": 49,
     "metadata": {},
     "output_type": "execute_result"
    }
   ],
   "source": [
    "IPL_2017"
   ]
  },
  {
   "cell_type": "code",
   "execution_count": 52,
   "metadata": {},
   "outputs": [],
   "source": [
    "IPL_FINAL=pd.merge(IPL_2018,IPL_2017,how='outer',on='IPL Team')"
   ]
  },
  {
   "cell_type": "code",
   "execution_count": 74,
   "metadata": {},
   "outputs": [
    {
     "data": {
      "text/html": [
       "<div>\n",
       "<style scoped>\n",
       "    .dataframe tbody tr th:only-of-type {\n",
       "        vertical-align: middle;\n",
       "    }\n",
       "\n",
       "    .dataframe tbody tr th {\n",
       "        vertical-align: top;\n",
       "    }\n",
       "\n",
       "    .dataframe thead th {\n",
       "        text-align: right;\n",
       "    }\n",
       "</style>\n",
       "<table border=\"1\" class=\"dataframe\">\n",
       "  <thead>\n",
       "    <tr style=\"text-align: right;\">\n",
       "      <th></th>\n",
       "      <th>IPL Team</th>\n",
       "      <th>Total_Matches</th>\n",
       "      <th>Total_Won</th>\n",
       "      <th>Win_Perc</th>\n",
       "    </tr>\n",
       "  </thead>\n",
       "  <tbody>\n",
       "    <tr>\n",
       "      <th>0</th>\n",
       "      <td>MI</td>\n",
       "      <td>31</td>\n",
       "      <td>18</td>\n",
       "      <td>0.58</td>\n",
       "    </tr>\n",
       "    <tr>\n",
       "      <th>1</th>\n",
       "      <td>SRH</td>\n",
       "      <td>32</td>\n",
       "      <td>18</td>\n",
       "      <td>0.56</td>\n",
       "    </tr>\n",
       "    <tr>\n",
       "      <th>2</th>\n",
       "      <td>KKR</td>\n",
       "      <td>32</td>\n",
       "      <td>18</td>\n",
       "      <td>0.56</td>\n",
       "    </tr>\n",
       "    <tr>\n",
       "      <th>3</th>\n",
       "      <td>KXIP</td>\n",
       "      <td>28</td>\n",
       "      <td>13</td>\n",
       "      <td>0.46</td>\n",
       "    </tr>\n",
       "    <tr>\n",
       "      <th>4</th>\n",
       "      <td>CSK</td>\n",
       "      <td>16</td>\n",
       "      <td>11</td>\n",
       "      <td>0.69</td>\n",
       "    </tr>\n",
       "    <tr>\n",
       "      <th>5</th>\n",
       "      <td>DD</td>\n",
       "      <td>28</td>\n",
       "      <td>11</td>\n",
       "      <td>0.39</td>\n",
       "    </tr>\n",
       "    <tr>\n",
       "      <th>6</th>\n",
       "      <td>RPS</td>\n",
       "      <td>16</td>\n",
       "      <td>10</td>\n",
       "      <td>0.62</td>\n",
       "    </tr>\n",
       "    <tr>\n",
       "      <th>7</th>\n",
       "      <td>RCB</td>\n",
       "      <td>28</td>\n",
       "      <td>9</td>\n",
       "      <td>0.32</td>\n",
       "    </tr>\n",
       "    <tr>\n",
       "      <th>8</th>\n",
       "      <td>RR</td>\n",
       "      <td>15</td>\n",
       "      <td>7</td>\n",
       "      <td>0.47</td>\n",
       "    </tr>\n",
       "    <tr>\n",
       "      <th>9</th>\n",
       "      <td>GL</td>\n",
       "      <td>14</td>\n",
       "      <td>4</td>\n",
       "      <td>0.29</td>\n",
       "    </tr>\n",
       "  </tbody>\n",
       "</table>\n",
       "</div>"
      ],
      "text/plain": [
       "  IPL Team  Total_Matches  Total_Won  Win_Perc\n",
       "0       MI             31         18      0.58\n",
       "1      SRH             32         18      0.56\n",
       "2      KKR             32         18      0.56\n",
       "3     KXIP             28         13      0.46\n",
       "4      CSK             16         11      0.69\n",
       "5       DD             28         11      0.39\n",
       "6      RPS             16         10      0.62\n",
       "7      RCB             28          9      0.32\n",
       "8       RR             15          7      0.47\n",
       "9       GL             14          4      0.29"
      ]
     },
     "execution_count": 74,
     "metadata": {},
     "output_type": "execute_result"
    }
   ],
   "source": [
    "IPL_FINAL"
   ]
  },
  {
   "cell_type": "code",
   "execution_count": 54,
   "metadata": {},
   "outputs": [],
   "source": [
    "IPL_FINAL=IPL_FINAL.fillna(value=0.0)"
   ]
  },
  {
   "cell_type": "code",
   "execution_count": 56,
   "metadata": {},
   "outputs": [],
   "source": [
    "IPL_FINAL['Total_Matches']=IPL_FINAL['Matches Played_x']+IPL_FINAL['Matches Played_y']\n",
    "IPL_FINAL['Total_Won']=IPL_FINAL['Matches Won_x']+IPL_FINAL['Matches Won_y']"
   ]
  },
  {
   "cell_type": "code",
   "execution_count": 60,
   "metadata": {},
   "outputs": [],
   "source": [
    "IPL_FINAL=IPL_FINAL.drop(['Matches Played_x','Matches Played_y','Matches Won_x','Matches Won_y'],axis=1)"
   ]
  },
  {
   "cell_type": "code",
   "execution_count": 64,
   "metadata": {},
   "outputs": [],
   "source": [
    "IPL_FINAL['Win_Perc']=round(IPL_FINAL['Total_Won']/IPL_FINAL['Total_Matches'],2)"
   ]
  },
  {
   "cell_type": "code",
   "execution_count": 68,
   "metadata": {},
   "outputs": [],
   "source": [
    "IPL_FINAL=IPL_FINAL.sort_values(by=['Total_Won','Win_Perc'],ascending=False)"
   ]
  },
  {
   "cell_type": "code",
   "execution_count": 71,
   "metadata": {},
   "outputs": [],
   "source": [
    "IPL_FINAL=IPL_FINAL.reset_index(drop=True)"
   ]
  },
  {
   "cell_type": "code",
   "execution_count": 73,
   "metadata": {},
   "outputs": [],
   "source": [
    "IPL_FINAL[['Total_Matches','Total_Won']]=IPL_FINAL[['Total_Matches','Total_Won']].astype(int)"
   ]
  },
  {
   "cell_type": "code",
   "execution_count": 75,
   "metadata": {},
   "outputs": [],
   "source": [
    "IPL_FINAL.to_csv('IPL_FINAL_FINAL.csv',index=False)"
   ]
  },
  {
   "cell_type": "code",
   "execution_count": 77,
   "metadata": {},
   "outputs": [],
   "source": [
    "cust_grp=master_df.groupby(by='Customer_Segment')"
   ]
  },
  {
   "cell_type": "code",
   "execution_count": 79,
   "metadata": {},
   "outputs": [
    {
     "data": {
      "text/plain": [
       "Customer_Segment\n",
       "CONSUMER          1857.859965\n",
       "CORPORATE         1787.680389\n",
       "HOME OFFICE       1754.312931\n",
       "SMALL BUSINESS    1698.124841\n",
       "Name: Sales, dtype: float64"
      ]
     },
     "execution_count": 79,
     "metadata": {},
     "output_type": "execute_result"
    }
   ],
   "source": [
    "cust_grp.Sales.mean().sort_values(ascending=False)"
   ]
  },
  {
   "cell_type": "code",
   "execution_count": 82,
   "metadata": {},
   "outputs": [
    {
     "data": {
      "text/plain": [
       "Customer_Segment\n",
       "HOME OFFICE       10521.33\n",
       "SMALL BUSINESS    13340.26\n",
       "CORPORATE         14440.39\n",
       "CONSUMER          27220.69\n",
       "Name: Profit, dtype: float64"
      ]
     },
     "execution_count": 82,
     "metadata": {},
     "output_type": "execute_result"
    }
   ],
   "source": [
    "master_df.groupby(by='Customer_Segment')['Profit'].max().sort_values(ascending=True)"
   ]
  },
  {
   "cell_type": "code",
   "execution_count": 85,
   "metadata": {},
   "outputs": [
    {
     "data": {
      "text/plain": [
       "Product_Category  Product_Sub_Category          \n",
       "FURNITURE         BOOKCASES                         -177.683228\n",
       "                  CHAIRS & CHAIRMATS                 387.693601\n",
       "                  OFFICE FURNISHINGS                 127.446612\n",
       "                  TABLES                            -274.411357\n",
       "OFFICE SUPPLIES   APPLIANCES                         223.866498\n",
       "                  BINDERS AND BINDER ACCESSORIES     335.970918\n",
       "                  ENVELOPES                          195.864228\n",
       "                  LABELS                              47.490174\n",
       "                  PAPER                               36.949551\n",
       "                  PENS & ART SUPPLIES                 11.950679\n",
       "                  RUBBER BANDS                        -0.573575\n",
       "                  SCISSORS, RULERS AND TRIMMERS      -54.161458\n",
       "                  STORAGE & ORGANIZATION              12.205403\n",
       "TECHNOLOGY        COMPUTER PERIPHERALS               124.389815\n",
       "                  COPIERS AND FAX                   1923.695287\n",
       "                  OFFICE MACHINES                    913.094748\n",
       "                  TELEPHONES AND COMMUNICATION       358.948607\n",
       "Name: Profit, dtype: float64"
      ]
     },
     "execution_count": 85,
     "metadata": {},
     "output_type": "execute_result"
    }
   ],
   "source": [
    "master_df.groupby(by=['Product_Category','Product_Sub_Category'])['Profit'].mean()"
   ]
  },
  {
   "cell_type": "code",
   "execution_count": 90,
   "metadata": {},
   "outputs": [],
   "source": [
    "pt_df=pd.pivot_table(master_df,index='Product_Sub_Category',columns='Product_Category',values='Sales',aggfunc=np.mean,fill_value=0.0,margins=True,margins_name='Total')"
   ]
  },
  {
   "cell_type": "code",
   "execution_count": 95,
   "metadata": {},
   "outputs": [
    {
     "data": {
      "text/plain": [
       "<AxesSubplot:xlabel='Product_Category', ylabel='Product_Sub_Category'>"
      ]
     },
     "execution_count": 95,
     "metadata": {},
     "output_type": "execute_result"
    },
    {
     "data": {
      "image/png": "[encoded data removed]",
      "text/plain": [
       "<Figure size 432x288 with 2 Axes>"
      ]
     },
     "metadata": {},
     "output_type": "display_data"
    }
   ],
   "source": [
    "sb.heatmap(data=pt_df,annot=True,fmt='.1f',cmap='hot_r')"
   ]
  },
  {
   "cell_type": "code",
   "execution_count": 4,
   "metadata": {},
   "outputs": [],
   "source": [
    "x=np.array([1,2,3,4,5])\n",
    "y=np.array([10,20,30,40,50])"
   ]
  },
  {
   "cell_type": "code",
   "execution_count": 12,
   "metadata": {},
   "outputs": [
    {
     "data": {
      "image/png": "[encoded data removed]",
      "text/plain": [
       "<Figure size 432x288 with 1 Axes>"
      ]
     },
     "metadata": {},
     "output_type": "display_data"
    }
   ],
   "source": [
    "plt.xlabel('X-axis')\n",
    "plt.ylabel('Y-axis')\n",
    "plt.title('Line Plot')\n",
    "plt.plot(x,y,marker='o',label='Marks')\n",
    "plt.legend(loc='lower right',fontsize='x-small')\n",
    "plt.grid()"
   ]
  },
  {
   "cell_type": "code",
   "execution_count": 13,
   "metadata": {},
   "outputs": [],
   "source": [
    "market_df=pd.read_csv('market_fact.csv')"
   ]
  },
  {
   "cell_type": "code",
   "execution_count": 20,
   "metadata": {},
   "outputs": [],
   "source": [
    "corr,pvalues=st.pearsonr(market_df.Sales,market_df.Profit)"
   ]
  },
  {
   "cell_type": "code",
   "execution_count": 21,
   "metadata": {},
   "outputs": [
    {
     "data": {
      "text/plain": [
       "<matplotlib.legend.Legend at 0x7f3643b6d250>"
      ]
     },
     "execution_count": 21,
     "metadata": {},
     "output_type": "execute_result"
    },
    {
     "data": {
      "image/png": "[encoded data removed]",
      "text/plain": [
       "<Figure size 432x288 with 1 Axes>"
      ]
     },
     "metadata": {},
     "output_type": "display_data"
    }
   ],
   "source": [
    "plt.xlabel('Sales')\n",
    "plt.ylabel('Profit')\n",
    "plt.title('Sales-Profit Relation')\n",
    "plt.scatter(market_df.Sales,market_df.Profit,label='r={}'.format(corr),c='r')\n",
    "plt.grid()\n",
    "plt.legend()"
   ]
  },
  {
   "cell_type": "code",
   "execution_count": 9,
   "metadata": {},
   "outputs": [
    {
     "data": {
      "image/png": "[encoded data removed]",
      "text/plain": [
       "<Figure size 432x288 with 1 Axes>"
      ]
     },
     "metadata": {},
     "output_type": "display_data"
    }
   ],
   "source": [
    "angles=np.array([0,30,45,60,90])\n",
    "s=np.sin(angles)\n",
    "c=np.cos(angles)\n",
    "t=np.tan(angles)\n",
    "\n",
    "plt.plot(angles,s,label='sin',marker='*')\n",
    "plt.plot(angles,c,label='cos',marker='d')\n",
    "plt.plot(angles,t,label='tan',marker='^')\n",
    "plt.legend()\n",
    "plt.grid()"
   ]
  },
  {
   "cell_type": "code",
   "execution_count": 15,
   "metadata": {},
   "outputs": [
    {
     "data": {
      "text/plain": [
       "<matplotlib.legend.Legend at 0x7fd8badf1a90>"
      ]
     },
     "execution_count": 15,
     "metadata": {},
     "output_type": "execute_result"
    },
    {
     "data": {
      "image/png": "[encoded data removed]",
      "text/plain": [
       "<Figure size 1080x288 with 3 Axes>"
      ]
     },
     "metadata": {},
     "output_type": "display_data"
    }
   ],
   "source": [
    "plt.figure(figsize=(15,4))\n",
    "plt.subplot(131)\n",
    "plt.plot(angles,s,label='sin',marker='*',c='r')\n",
    "plt.legend()\n",
    "plt.subplot(132)\n",
    "plt.plot(angles,c,label='cos',marker='d',c='g')\n",
    "plt.legend()\n",
    "plt.subplot(133)\n",
    "plt.plot(angles,t,label='tan',marker='^',c='m')\n",
    "plt.legend()"
   ]
  },
  {
   "cell_type": "code",
   "execution_count": 17,
   "metadata": {},
   "outputs": [],
   "source": [
    "odi_df=pd.read_csv('tendulkar_ODI.csv')"
   ]
  },
  {
   "cell_type": "code",
   "execution_count": 18,
   "metadata": {},
   "outputs": [
    {
     "name": "stdout",
     "output_type": "stream",
     "text": [
      "<class 'pandas.core.frame.DataFrame'>\n",
      "RangeIndex: 295 entries, 0 to 294\n",
      "Data columns (total 13 columns):\n",
      " #   Column      Non-Null Count  Dtype \n",
      "---  ------      --------------  ----- \n",
      " 0   Unnamed: 0  295 non-null    int64 \n",
      " 1   Runs        295 non-null    object\n",
      " 2   Mins        295 non-null    object\n",
      " 3   BF          295 non-null    object\n",
      " 4   4s          295 non-null    object\n",
      " 5   6s          295 non-null    object\n",
      " 6   SR          295 non-null    object\n",
      " 7   Pos         295 non-null    object\n",
      " 8   Dismissal   295 non-null    object\n",
      " 9   Inns        295 non-null    object\n",
      " 10  Opposition  295 non-null    object\n",
      " 11  Ground      295 non-null    object\n",
      " 12  Start Date  295 non-null    object\n",
      "dtypes: int64(1), object(12)\n",
      "memory usage: 30.1+ KB\n"
     ]
    }
   ],
   "source": [
    "odi_df.info()"
   ]
  },
  {
   "cell_type": "code",
   "execution_count": 20,
   "metadata": {},
   "outputs": [],
   "source": [
    "odi_df.Runs=odi_df.Runs.apply(lambda x:x.split('*')[0])"
   ]
  },
  {
   "cell_type": "code",
   "execution_count": 25,
   "metadata": {},
   "outputs": [],
   "source": [
    "list=['DNB','TDNB']\n",
    "odi_df2=odi_df[~odi_df.Runs.isin(list)]"
   ]
  },
  {
   "cell_type": "code",
   "execution_count": 27,
   "metadata": {},
   "outputs": [
    {
     "name": "stderr",
     "output_type": "stream",
     "text": [
      "/home/sameer/.local/lib/python3.8/site-packages/pandas/core/generic.py:5516: SettingWithCopyWarning: \n",
      "A value is trying to be set on a copy of a slice from a DataFrame.\n",
      "Try using .loc[row_indexer,col_indexer] = value instead\n",
      "\n",
      "See the caveats in the documentation: https://pandas.pydata.org/pandas-docs/stable/user_guide/indexing.html#returning-a-view-versus-a-copy\n",
      "  self[name] = value\n"
     ]
    }
   ],
   "source": [
    "odi_df2.Runs=odi_df2.Runs.astype(int)"
   ]
  },
  {
   "cell_type": "code",
   "execution_count": 30,
   "metadata": {},
   "outputs": [
    {
     "name": "stdout",
     "output_type": "stream",
     "text": [
      "<class 'pandas.core.frame.DataFrame'>\n",
      "Int64Index: 292 entries, 0 to 294\n",
      "Data columns (total 13 columns):\n",
      " #   Column      Non-Null Count  Dtype \n",
      "---  ------      --------------  ----- \n",
      " 0   Unnamed: 0  292 non-null    int64 \n",
      " 1   Runs        292 non-null    int64 \n",
      " 2   Mins        292 non-null    object\n",
      " 3   BF          292 non-null    object\n",
      " 4   4s          292 non-null    object\n",
      " 5   6s          292 non-null    object\n",
      " 6   SR          292 non-null    object\n",
      " 7   Pos         292 non-null    object\n",
      " 8   Dismissal   292 non-null    object\n",
      " 9   Inns        292 non-null    object\n",
      " 10  Opposition  292 non-null    object\n",
      " 11  Ground      292 non-null    object\n",
      " 12  Start Date  292 non-null    object\n",
      "dtypes: int64(2), object(11)\n",
      "memory usage: 31.9+ KB\n"
     ]
    }
   ],
   "source": [
    "odi_df2.info()"
   ]
  },
  {
   "cell_type": "code",
   "execution_count": 33,
   "metadata": {},
   "outputs": [
    {
     "name": "stderr",
     "output_type": "stream",
     "text": [
      "/tmp/ipykernel_3987/3420543180.py:1: SettingWithCopyWarning: \n",
      "A value is trying to be set on a copy of a slice from a DataFrame.\n",
      "Try using .loc[row_indexer,col_indexer] = value instead\n",
      "\n",
      "See the caveats in the documentation: https://pandas.pydata.org/pandas-docs/stable/user_guide/indexing.html#returning-a-view-versus-a-copy\n",
      "  odi_df2['Run_Bucket']=pd.cut(odi_df2['Runs'],bins=20,labels=['0-10','10-20','20-30','30-40','40-50','50-60','60-70','70-80','80-90','90-100','100-110','110-120','120-130','130-140','140-150','150-160','160-170','170-180','180-190','190-200'])\n"
     ]
    }
   ],
   "source": [
    "odi_df2['Run_Bucket']=pd.cut(odi_df2['Runs'],bins=20,labels=['0-10','10-20','20-30','30-40','40-50','50-60','60-70','70-80','80-90','90-100','100-110','110-120','120-130','130-140','140-150','150-160','160-170','170-180','180-190','190-200'])"
   ]
  },
  {
   "cell_type": "code",
   "execution_count": 38,
   "metadata": {},
   "outputs": [
    {
     "data": {
      "text/plain": [
       "<AxesSubplot:xlabel='Run_Bucket', ylabel='count'>"
      ]
     },
     "execution_count": 38,
     "metadata": {},
     "output_type": "execute_result"
    },
    {
     "data": {
      "image/png": "[encoded data removed]",
      "text/plain": [
       "<Figure size 1080x360 with 1 Axes>"
      ]
     },
     "metadata": {},
     "output_type": "display_data"
    }
   ],
   "source": [
    "plt.figure(figsize=(15,5))\n",
    "sb.countplot(data=odi_df2,x='Run_Bucket')"
   ]
  },
  {
   "cell_type": "code",
   "execution_count": 41,
   "metadata": {},
   "outputs": [
    {
     "data": {
      "text/plain": [
       "<AxesSubplot:xlabel='Run_Bucket', ylabel='Count'>"
      ]
     },
     "execution_count": 41,
     "metadata": {},
     "output_type": "execute_result"
    },
    {
     "data": {
      "image/png": "[encoded data removed]",
      "text/plain": [
       "<Figure size 1440x360 with 1 Axes>"
      ]
     },
     "metadata": {},
     "output_type": "display_data"
    }
   ],
   "source": [
    "plt.figure(figsize=(20,5))\n",
    "sb.histplot(data=odi_df2,x='Run_Bucket')"
   ]
  },
  {
   "cell_type": "code",
   "execution_count": 45,
   "metadata": {},
   "outputs": [
    {
     "name": "stderr",
     "output_type": "stream",
     "text": [
      "/tmp/ipykernel_3987/1412490946.py:1: SettingWithCopyWarning: \n",
      "A value is trying to be set on a copy of a slice from a DataFrame.\n",
      "Try using .loc[row_indexer,col_indexer] = value instead\n",
      "\n",
      "See the caveats in the documentation: https://pandas.pydata.org/pandas-docs/stable/user_guide/indexing.html#returning-a-view-versus-a-copy\n",
      "  odi_df2['4s']=odi_df2['4s'].astype(np.int8)\n"
     ]
    }
   ],
   "source": [
    "odi_df2['4s']=odi_df2['4s'].astype(np.int8)"
   ]
  },
  {
   "cell_type": "code",
   "execution_count": 50,
   "metadata": {},
   "outputs": [
    {
     "data": {
      "text/plain": [
       "<AxesSubplot:xlabel='count', ylabel='4s'>"
      ]
     },
     "execution_count": 50,
     "metadata": {},
     "output_type": "execute_result"
    },
    {
     "data": {
      "image/png": "[encoded data removed]",
      "text/plain": [
       "<Figure size 432x288 with 1 Axes>"
      ]
     },
     "metadata": {},
     "output_type": "display_data"
    }
   ],
   "source": [
    "sb.countplot(data=odi_df2,y='4s')"
   ]
  }
 ],
 "metadata": {
  "interpreter": {
   "hash": "916dbcbb3f70747c44a77c7bcd40155683ae19c65e1c03b4aa3499c5328201f1"
  },
  "kernelspec": {
   "display_name": "Python 3.8.10 64-bit",
   "name": "python3"
  },
  "language_info": {
   "codemirror_mode": {
    "name": "ipython",
    "version": 3
   },
   "file_extension": ".py",
   "mimetype": "text/x-python",
   "name": "python",
   "nbconvert_exporter": "python",
   "pygments_lexer": "ipython3",
   "version": "3.8.10"
  },
  "orig_nbformat": 4
 },
 "nbformat": 4,
 "nbformat_minor": 2
}
