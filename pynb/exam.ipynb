{
 "cells": [
  {
   "cell_type": "code",
   "execution_count": 2,
   "metadata": {},
   "outputs": [
    {
     "name": "stdout",
     "output_type": "stream",
     "text": [
      "[('Preethi', 8000), ('Butterfly', 10000), ('Haers', 25000)]\n",
      "[('Haers', 25000), ('Butterfly', 10000), ('Preethi', 8000)]\n"
     ]
    }
   ],
   "source": [
    "brands=[('Haers',25000),('Butterfly',10000),('Preethi',8000)]\n",
    "brands.sort(key=lambda x:x[1],reverse=False)\n",
    "print(brands)\n",
    "brands.sort(key=lambda x:x[1],reverse=True)\n",
    "print(brands)"
   ]
  },
  {
   "cell_type": "code",
   "execution_count": 3,
   "metadata": {},
   "outputs": [
    {
     "name": "stdout",
     "output_type": "stream",
     "text": [
      "['punch', 'tiago', 'i10', 'creta', 'verna']\n"
     ]
    }
   ],
   "source": [
    "list1=['nexon','punch','tigor','tiago']\n",
    "list2=['i10','i20','creta','venue','verna']\n",
    "list3=list()\n",
    "e1=list1[1::2]\n",
    "e2=list2[0::2]\n",
    "list3.extend(e1)\n",
    "list3.extend(e2)\n",
    "print(list3)"
   ]
  },
  {
   "cell_type": "code",
   "execution_count": 4,
   "metadata": {},
   "outputs": [
    {
     "name": "stdout",
     "output_type": "stream",
     "text": [
      "glorious\n",
      "resplent\n",
      "6.0\n"
     ]
    }
   ],
   "source": [
    "words=[\"glorious\",\"resplent\",\"elegant\",6.0,99]\n",
    "def fun1(list, size):\n",
    "    return [words[i:i+size] for i in range(0, len(list), size)]\n",
    "b1={\"beautiful\",\"splendid\",\"elegant\"}\n",
    "res=fun1(words,4)[0]\n",
    "for temp in res:\n",
    "    if temp not in b1:\n",
    "        print(temp)"
   ]
  },
  {
   "cell_type": "code",
   "execution_count": 6,
   "metadata": {},
   "outputs": [
    {
     "name": "stdout",
     "output_type": "stream",
     "text": [
      "Crude\n",
      "Elegant\n"
     ]
    }
   ],
   "source": [
    "class Synonyms:\n",
    "    def __init__(self):\n",
    "        self.s1='Elegant'\n",
    "        self.s2='Dull'\n",
    "        self.findSynonyms(self.s1)\n",
    "        self.findAntonyms(self.s2)\n",
    "    def findSynonyms(self,s1):\n",
    "        s1='Statuesque'\n",
    "        return s1\n",
    "    def findAntonyms(self,s1):\n",
    "        s2='Crude'\n",
    "        print(s2)\n",
    "obj=Synonyms()\n",
    "print(obj.s1)"
   ]
  },
  {
   "cell_type": "code",
   "execution_count": 1,
   "metadata": {},
   "outputs": [
    {
     "name": "stdout",
     "output_type": "stream",
     "text": [
      "S:p:l:e:n:d:i:d: :W:e:a:t:h:e:r:"
     ]
    }
   ],
   "source": [
    "str=\"Splendid Weather\"\n",
    "for s in str:\n",
    "    print(s, end=\":\")"
   ]
  },
  {
   "cell_type": "code",
   "execution_count": 2,
   "metadata": {},
   "outputs": [
    {
     "name": "stdout",
     "output_type": "stream",
     "text": [
      "5\n"
     ]
    }
   ],
   "source": [
    "lst=[75.5,53.1,101.4,120.0,90.5,60.8]\n",
    "m=0.0\n",
    "i=0\n",
    "for i in range(len(lst)):\n",
    "    if (lst[i]>=m):\n",
    "        m=lst[i]\n",
    "        m=i\n",
    "print(m)"
   ]
  }
 ],
 "metadata": {
  "interpreter": {
   "hash": "0fc36adb1413a533b75c8fdf4ee180000a9aa519759bff0265db00d1bebe6ded"
  },
  "kernelspec": {
   "display_name": "Python 3.8.8rc1 64-bit",
   "language": "python",
   "name": "python3"
  },
  "language_info": {
   "codemirror_mode": {
    "name": "ipython",
    "version": 3
   },
   "file_extension": ".py",
   "mimetype": "text/x-python",
   "name": "python",
   "nbconvert_exporter": "python",
   "pygments_lexer": "ipython3",
   "version": "3.8.8rc1"
  },
  "orig_nbformat": 4
 },
 "nbformat": 4,
 "nbformat_minor": 2
}
